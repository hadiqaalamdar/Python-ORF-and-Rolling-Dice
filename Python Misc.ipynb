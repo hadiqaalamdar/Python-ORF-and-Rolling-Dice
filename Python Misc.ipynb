{
 "cells": [
  {
   "cell_type": "markdown",
   "metadata": {},
   "source": [
    "##### 21 Oct 2019"
   ]
  },
  {
   "cell_type": "markdown",
   "metadata": {},
   "source": [
    "# Introduction to Python: Review and Discussion"
   ]
  },
  {
   "cell_type": "markdown",
   "metadata": {},
   "source": [
    "Some odds 'n ends from the first two Python lectures, plus some in-class coding exercises"
   ]
  },
  {
   "cell_type": "markdown",
   "metadata": {},
   "source": [
    "* variable names\n",
    "* side effects\n",
    "* Python 2 _vs_ Python 3\n",
    "* `format` method\n",
    "* CpG islands (in-class project)"
   ]
  },
  {
   "cell_type": "markdown",
   "metadata": {},
   "source": [
    "## Variable Names: Python Conventions"
   ]
  },
  {
   "cell_type": "markdown",
   "metadata": {},
   "source": [
    "The rules (from lecture notes named 'Python I'):\n",
    "* names start with a letter or underscore\n",
    "* can have any number of characters\n",
    "* characters after the first can be letters, digits, underscores"
   ]
  },
  {
   "cell_type": "markdown",
   "metadata": {},
   "source": [
    "These are all legal variable names in Python:"
   ]
  },
  {
   "cell_type": "code",
   "execution_count": 15,
   "metadata": {},
   "outputs": [],
   "source": [
    "a = 10"
   ]
  },
  {
   "cell_type": "code",
   "execution_count": 16,
   "metadata": {},
   "outputs": [],
   "source": [
    "A = 3           # a different variable -- case is signicant"
   ]
  },
  {
   "cell_type": "code",
   "execution_count": 17,
   "metadata": {},
   "outputs": [
    {
     "name": "stdout",
     "output_type": "stream",
     "text": [
      "10 3\n"
     ]
    }
   ],
   "source": [
    "print(a, A)"
   ]
  },
  {
   "cell_type": "code",
   "execution_count": 18,
   "metadata": {},
   "outputs": [],
   "source": [
    "first_name = 'Hermione'"
   ]
  },
  {
   "cell_type": "code",
   "execution_count": 19,
   "metadata": {},
   "outputs": [],
   "source": [
    "LastName = 'Granger'"
   ]
  },
  {
   "cell_type": "code",
   "execution_count": 20,
   "metadata": {},
   "outputs": [],
   "source": [
    "Area51Warning = 'Here there be 👽'"
   ]
  },
  {
   "cell_type": "code",
   "execution_count": 21,
   "metadata": {},
   "outputs": [
    {
     "name": "stdout",
     "output_type": "stream",
     "text": [
      "Hermione said Here there be 👽\n"
     ]
    }
   ],
   "source": [
    "print(first_name, 'said', Area51Warning)"
   ]
  },
  {
   "cell_type": "markdown",
   "metadata": {},
   "source": [
    "### PEP 8 "
   ]
  },
  {
   "cell_type": "markdown",
   "metadata": {},
   "source": [
    "Over the years the Python community has adopted a set of standards for names\n",
    "\n",
    "The document that describes these standards is known as \"PEP 8\"\n",
    "\n",
    "* see https://www.python.org/dev/peps/pep-0008"
   ]
  },
  {
   "cell_type": "markdown",
   "metadata": {},
   "source": [
    "The part that is relevant for us:\n",
    "\n",
    "* \"Function names should be lowercase, with words separated by underscores as necessary to improve readability.\"\n",
    "\n",
    "* \"Variable names follow the same convention as function names.\"\n",
    "\n",
    "* \"mixedCase is allowed only in contexts where that's already the prevailing style ... to retain backwards compatibility.\""
   ]
  },
  {
   "cell_type": "markdown",
   "metadata": {},
   "source": [
    "### 🛠  &nbsp; Bi 410/510 Standards "
   ]
  },
  {
   "cell_type": "markdown",
   "metadata": {},
   "source": [
    "Variable and function names should start with lower case letters\n",
    "* yes:  &nbsp; `celsius`, &nbsp;` plural`, &nbsp;` t`\n",
    "* no: &nbsp;&nbsp;&nbsp; `Celsius`, &nbsp; ` T`"
   ]
  },
  {
   "cell_type": "markdown",
   "metadata": {},
   "source": [
    "Use underscores to separate words in long names (_aka_ \"snake case\")\n",
    "* yes:  &nbsp; `last_name`, `first_name`, `celsius_to_fahrenheit`\n",
    "* no: &nbsp;&nbsp;&nbsp; `LastName`, `CeliusToFahrenheit` (a format called \"camel case\")"
   ]
  },
  {
   "cell_type": "markdown",
   "metadata": {},
   "source": [
    "Names should start with lower case letters\n",
    "* yes: &nbsp; `area_51_warning`\n",
    "* no: &nbsp;&nbsp;&nbsp; `Area_51_warning` &nbsp; or &nbsp; `Area51Warning`"
   ]
  },
  {
   "cell_type": "markdown",
   "metadata": {},
   "source": [
    "## Descriptive Variable Names (in Any Programming Language)"
   ]
  },
  {
   "cell_type": "markdown",
   "metadata": {},
   "source": [
    "Here are two versions of the function that converts temperatures from Fahrenheit to Celsius:"
   ]
  },
  {
   "cell_type": "code",
   "execution_count": 1,
   "metadata": {},
   "outputs": [],
   "source": [
    "def cels(t):\n",
    "    f = (9/5) * (t-32)\n",
    "    return f"
   ]
  },
  {
   "cell_type": "code",
   "execution_count": 2,
   "metadata": {},
   "outputs": [],
   "source": [
    "def foo(n):\n",
    "    x = (9/5) * (n-32)\n",
    "    return x"
   ]
  },
  {
   "cell_type": "markdown",
   "metadata": {},
   "source": [
    "They both do the same thing; the only difference is the names of the function and the variables."
   ]
  },
  {
   "cell_type": "markdown",
   "metadata": {},
   "source": [
    "### 🛠  &nbsp; Use Descriptive Function Names and Variable Names "
   ]
  },
  {
   "cell_type": "markdown",
   "metadata": {},
   "source": [
    "The first version (`cels`) is clearly better\n",
    "\n",
    "Names need to be **descriptive**\n",
    "* other people who read the program should understand what the name is use for\n",
    "* what does a function compute?\n",
    "* what values are stored in a variable?\n",
    "  \n",
    "\"Other people\" includes \"future you\" -- you will be amazed how much you can forget about your own programs a few months after you write them!"
   ]
  },
  {
   "cell_type": "markdown",
   "metadata": {},
   "source": [
    "#### Single Letters? "
   ]
  },
  {
   "cell_type": "markdown",
   "metadata": {},
   "source": [
    "The name `f` in this function stands for \"Fahrenheit value\".\n",
    "\n",
    "It's OK for such a small function.\n",
    "\n",
    "A better choice might be `fahr` or even `fahrenheit`\n",
    "* names that are too long are tedious to write (and to read!)\n",
    "\n",
    "💎 &nbsp; A rule of thumb: names used in many places in the notebook (like function names) should be longer and more descriptive."
   ]
  },
  {
   "cell_type": "markdown",
   "metadata": {},
   "source": [
    "#### In Defense of `foo` "
   ]
  },
  {
   "cell_type": "markdown",
   "metadata": {},
   "source": [
    "There are times when a nonsense name like `foo` is the right choice\n",
    "* the code might illustrate how to write a function, showing the structure of a function definition\n",
    "* readers might be mislead, _e.g._ this is how to write a temperature converter, but maybe not some other kind of function"
   ]
  },
  {
   "cell_type": "markdown",
   "metadata": {},
   "source": [
    "The same goes for the arithmetic expression -- if the goal is to show how precedence rules work the variable names are not as important"
   ]
  },
  {
   "cell_type": "markdown",
   "metadata": {},
   "source": [
    "## Returning a Value _vs_ Printing a Value"
   ]
  },
  {
   "cell_type": "markdown",
   "metadata": {},
   "source": [
    "Here are two versions of the temperature converter:"
   ]
  },
  {
   "cell_type": "code",
   "execution_count": 24,
   "metadata": {},
   "outputs": [],
   "source": [
    "def cels(t):                    # the version shown earlier\n",
    "    f = (9/5) * (t-32)\n",
    "    return f"
   ]
  },
  {
   "cell_type": "code",
   "execution_count": 25,
   "metadata": {},
   "outputs": [],
   "source": [
    "def pcels(t):                   # a version that prints the result\n",
    "    f = (9/5) * (t-32)          # (the 'p' in the name means 'print')\n",
    "    print(f)"
   ]
  },
  {
   "cell_type": "markdown",
   "metadata": {},
   "source": [
    "The notebook looks very similar when we run each version:"
   ]
  },
  {
   "cell_type": "code",
   "execution_count": 3,
   "metadata": {},
   "outputs": [
    {
     "data": {
      "text/plain": [
       "68.4"
      ]
     },
     "execution_count": 3,
     "metadata": {},
     "output_type": "execute_result"
    }
   ],
   "source": [
    "cels(70)"
   ]
  },
  {
   "cell_type": "code",
   "execution_count": 27,
   "metadata": {},
   "outputs": [
    {
     "name": "stdout",
     "output_type": "stream",
     "text": [
      "68.4\n"
     ]
    }
   ],
   "source": [
    "pcels(70)"
   ]
  },
  {
   "cell_type": "markdown",
   "metadata": {},
   "source": [
    "### `cels` Returns a Value "
   ]
  },
  {
   "cell_type": "markdown",
   "metadata": {},
   "source": [
    "Notice how the code cell that calls `cels` has an Out section\n",
    "* the In prompt shows the statement (expression) that is evaluated\n",
    "* the Out section below it is the result\n",
    "* in this example, the result is **the value returned by the call to `cels`**"
   ]
  },
  {
   "cell_type": "markdown",
   "metadata": {},
   "source": [
    "To emphasize this, let's save the value returned by `cels`, and then look at that value:"
   ]
  },
  {
   "cell_type": "code",
   "execution_count": 28,
   "metadata": {},
   "outputs": [],
   "source": [
    "cv = cels(70)"
   ]
  },
  {
   "cell_type": "code",
   "execution_count": 29,
   "metadata": {},
   "outputs": [
    {
     "name": "stdout",
     "output_type": "stream",
     "text": [
      "68.4\n"
     ]
    }
   ],
   "source": [
    "print(cv)"
   ]
  },
  {
   "cell_type": "markdown",
   "metadata": {},
   "source": [
    "### `pcels` Prints a Value "
   ]
  },
  {
   "cell_type": "markdown",
   "metadata": {},
   "source": [
    "Look carefully at the code cell where `pcels` was called\n",
    "* there is no Out section\n",
    "* that's because the function **didn't return a result**\n",
    "* the \"68.4\" is a string printed by the function itself, not a value returned by the call"
   ]
  },
  {
   "cell_type": "markdown",
   "metadata": {},
   "source": [
    "Notice what happens when we save the result of a call to `pcels`:"
   ]
  },
  {
   "cell_type": "code",
   "execution_count": 30,
   "metadata": {},
   "outputs": [
    {
     "name": "stdout",
     "output_type": "stream",
     "text": [
      "68.4\n"
     ]
    }
   ],
   "source": [
    "pcv = pcels(70)"
   ]
  },
  {
   "cell_type": "code",
   "execution_count": 31,
   "metadata": {},
   "outputs": [
    {
     "name": "stdout",
     "output_type": "stream",
     "text": [
      "None\n"
     ]
    }
   ],
   "source": [
    "print(pcv)"
   ]
  },
  {
   "cell_type": "markdown",
   "metadata": {},
   "source": [
    "### `None` "
   ]
  },
  {
   "cell_type": "markdown",
   "metadata": {},
   "source": [
    "`None` is a special value in Python (similar to `True` and `False`, the Boolean constants)\n",
    "* it means \"no value\" or \"no object\""
   ]
  },
  {
   "cell_type": "markdown",
   "metadata": {},
   "source": [
    "If a function (like `pcels`) does not have a `return` statement it will return `None`"
   ]
  },
  {
   "cell_type": "markdown",
   "metadata": {},
   "source": [
    "## Side Effects "
   ]
  },
  {
   "cell_type": "markdown",
   "metadata": {},
   "source": [
    "In computer science jargon, anything printed by a function is a **side effect** of the function all\n",
    "* the term implies that the main reason to call a function is to for the value computed by the function\n",
    "* anything else is extraneous"
   ]
  },
  {
   "cell_type": "markdown",
   "metadata": {},
   "source": [
    "### 🛠  &nbsp; Your Functions Should Return Values"
   ]
  },
  {
   "cell_type": "markdown",
   "metadata": {},
   "source": [
    "Unless the project explicitly says a function should print something, your functions should return values, not print them"
   ]
  },
  {
   "cell_type": "markdown",
   "metadata": {},
   "source": [
    "\n",
    "Almost all project specs will say \"write a function that returns ...\""
   ]
  },
  {
   "cell_type": "markdown",
   "metadata": {},
   "source": [
    "## When to Use `print` "
   ]
  },
  {
   "cell_type": "markdown",
   "metadata": {},
   "source": [
    "There are times when it is appropriate to use a `print` statement"
   ]
  },
  {
   "cell_type": "markdown",
   "metadata": {},
   "source": [
    "### The Function Is Designed Specifically to Produce Output"
   ]
  },
  {
   "cell_type": "markdown",
   "metadata": {},
   "source": [
    "Some projects will ask you to write a function that generates some output, _e.g._\n",
    "* \"implement a function that prints a table that shows $f(x)$ for $0 \\leq x \\leq 10$\"\n",
    "* \"the function `foo` should write a file containing ...\""
   ]
  },
  {
   "cell_type": "markdown",
   "metadata": {},
   "source": [
    "But even in these cases there will be a clear \"separation of concerns\"\n",
    "* your notebook will have some \"pure\" functions that compute values\n",
    "* other functions will format and print the results\n",
    "\n",
    "💎 &nbsp; Rarely, if ever, will a function be used both to create results and print them."
   ]
  },
  {
   "cell_type": "markdown",
   "metadata": {},
   "source": [
    "### Temporarily Add `print` Statements to Help Debug a Function"
   ]
  },
  {
   "cell_type": "markdown",
   "metadata": {},
   "source": [
    "One very effective technique for debugging a program is to add `print` statements\n",
    "\n",
    "Example:\n",
    "* print the values used in a Boolean expression immediately before an `if` statement\n",
    "* print messages in the `if` clause and `else` clause to let you know which one is executed"
   ]
  },
  {
   "cell_type": "markdown",
   "metadata": {},
   "source": [
    "Example: here is a function that should return a string, but it doesn't seem to work when we pass it the number 10:"
   ]
  },
  {
   "cell_type": "code",
   "execution_count": 32,
   "metadata": {},
   "outputs": [],
   "source": [
    "def high_low(x):\n",
    "    \"Return 'low' if x is less than 10, otherwise return 'high'\"\n",
    "    if x < 10:\n",
    "        return 'low'\n",
    "    elif x > 10:\n",
    "        return 'high'"
   ]
  },
  {
   "cell_type": "code",
   "execution_count": 33,
   "metadata": {},
   "outputs": [
    {
     "data": {
      "text/plain": [
       "'high'"
      ]
     },
     "execution_count": 33,
     "metadata": {},
     "output_type": "execute_result"
    }
   ],
   "source": [
    "high_low(25)"
   ]
  },
  {
   "cell_type": "code",
   "execution_count": 34,
   "metadata": {},
   "outputs": [
    {
     "data": {
      "text/plain": [
       "'low'"
      ]
     },
     "execution_count": 34,
     "metadata": {},
     "output_type": "execute_result"
    }
   ],
   "source": [
    "high_low(5)"
   ]
  },
  {
   "cell_type": "code",
   "execution_count": 35,
   "metadata": {},
   "outputs": [],
   "source": [
    "high_low(10)       ### an error -- the result should be \"high\" but we're getting None"
   ]
  },
  {
   "cell_type": "markdown",
   "metadata": {},
   "source": [
    "Here is the same function, but I've added `print` statements to help debug it."
   ]
  },
  {
   "cell_type": "code",
   "execution_count": 3,
   "metadata": {},
   "outputs": [],
   "source": [
    "def high_low(x):\n",
    "    \"Return 'low' if x is less than 10, otherwise return 'high'\"\n",
    "    print('x =', x)\n",
    "    if x < 10:\n",
    "        print('x < 10')\n",
    "        return 'low'\n",
    "    elif x > 10:\n",
    "        print('x > 10')\n",
    "        return 'high'\n",
    "    print(\"I shouldn't be here\")"
   ]
  },
  {
   "cell_type": "code",
   "execution_count": 37,
   "metadata": {},
   "outputs": [
    {
     "name": "stdout",
     "output_type": "stream",
     "text": [
      "x = 25\n",
      "x > 10\n"
     ]
    },
    {
     "data": {
      "text/plain": [
       "'high'"
      ]
     },
     "execution_count": 37,
     "metadata": {},
     "output_type": "execute_result"
    }
   ],
   "source": [
    "high_low(25)"
   ]
  },
  {
   "cell_type": "code",
   "execution_count": 38,
   "metadata": {},
   "outputs": [
    {
     "name": "stdout",
     "output_type": "stream",
     "text": [
      "x = 5\n",
      "x < 10\n"
     ]
    },
    {
     "data": {
      "text/plain": [
       "'low'"
      ]
     },
     "execution_count": 38,
     "metadata": {},
     "output_type": "execute_result"
    }
   ],
   "source": [
    "high_low(5)"
   ]
  },
  {
   "cell_type": "code",
   "execution_count": 2,
   "metadata": {},
   "outputs": [
    {
     "name": "stdout",
     "output_type": "stream",
     "text": [
      "x = 10\n",
      "I shouldn't be here\n"
     ]
    }
   ],
   "source": [
    "high_low(10)       # the first print is executed, but not the 2nd or the 3rd... why?"
   ]
  },
  {
   "cell_type": "markdown",
   "metadata": {},
   "source": [
    "#### How Should We Fix This Bug? "
   ]
  },
  {
   "cell_type": "markdown",
   "metadata": {},
   "source": [
    "Let's edit the code in this cell (so when the notes are published on Canvas we'll see both the \"before\" and \"after\" versions):"
   ]
  },
  {
   "cell_type": "markdown",
   "metadata": {},
   "source": [
    "New spec: return \"high\" if $x \\geq 10$"
   ]
  },
  {
   "cell_type": "code",
   "execution_count": null,
   "metadata": {},
   "outputs": [],
   "source": [
    "def high_low(x):\n",
    "    if x=10"
   ]
  },
  {
   "cell_type": "code",
   "execution_count": null,
   "metadata": {},
   "outputs": [],
   "source": [
    "high_low(25)"
   ]
  },
  {
   "cell_type": "code",
   "execution_count": null,
   "metadata": {},
   "outputs": [],
   "source": [
    "high_low(5)"
   ]
  },
  {
   "cell_type": "code",
   "execution_count": null,
   "metadata": {},
   "outputs": [],
   "source": [
    "high_low(10)"
   ]
  },
  {
   "cell_type": "markdown",
   "metadata": {},
   "source": [
    "### Scaffolding "
   ]
  },
  {
   "cell_type": "markdown",
   "metadata": {},
   "source": [
    "When your program is working you can delete the print statements."
   ]
  },
  {
   "cell_type": "markdown",
   "metadata": {},
   "source": [
    "Statements that are added during construction and then torn down when the job is done are referred to as **scaffolding**"
   ]
  },
  {
   "cell_type": "markdown",
   "metadata": {},
   "source": [
    "#### 💎 &nbsp; Comment / Uncomment "
   ]
  },
  {
   "cell_type": "markdown",
   "metadata": {},
   "source": [
    "Instead of deleting the print statements consider \"commenting them out\" instead.\n",
    "* add a # to the beginning of the line (the very first character, not indented)\n",
    "\n",
    "That way you can \"uncomment\" the print statements if you ever need them again in the future."
   ]
  },
  {
   "cell_type": "markdown",
   "metadata": {},
   "source": [
    "## Python 2 _vs_ Python 3 "
   ]
  },
  {
   "cell_type": "markdown",
   "metadata": {},
   "source": [
    "Our textbook (_Practical Computing for Biologists_) has examples written in Python 2, but we're using Python 3\n",
    "\n",
    "Almost everything we've seen so far (expressions, `def` statements, `if` statements) is the same in both versions\n",
    "\n",
    "One difference:\n",
    "* in Python 2, `print` is a **keyword**\n",
    "* in Python 3, `print` is a **builtin function**"
   ]
  },
  {
   "cell_type": "markdown",
   "metadata": {},
   "source": [
    "A **print statement** in Python 2 starts with the word `print` and is followed by a space and a list of values to print\n",
    "```\n",
    "print 6*7\n",
    "print first_name, 'said', area_51_warning\n",
    "```"
   ]
  },
  {
   "cell_type": "markdown",
   "metadata": {},
   "source": [
    "In Python 3, we call a function named `print` and pass it a list of values to print:\n",
    "```\n",
    "print(6*7)\n",
    "print(first_name, 'said', area_51_warning)\n",
    "```"
   ]
  },
  {
   "cell_type": "markdown",
   "metadata": {},
   "source": [
    "Old habits:  we still say a call to `print` is a \"print statement\""
   ]
  },
  {
   "cell_type": "markdown",
   "metadata": {},
   "source": [
    "### Coding Standards "
   ]
  },
  {
   "cell_type": "markdown",
   "metadata": {},
   "source": [
    "The PEP-8 document says that even though spaces between function names and opening parens are legal they should be avoided\n",
    "```\n",
    "print (6*7)          ## <--- bad style\n",
    "print(6*7)           ## OK\n",
    "```"
   ]
  },
  {
   "cell_type": "markdown",
   "metadata": {},
   "source": [
    "### 🛠  &nbsp;  Do Not Put Spaces After Function Names"
   ]
  },
  {
   "cell_type": "markdown",
   "metadata": {},
   "source": [
    "```\n",
    "print ('hello')        ## No\n",
    "cels (70)              ## No\n",
    "```\n",
    "\n",
    "```\n",
    "print('hello')         ## Yes\n",
    "cels(70)               ## Yes\n",
    "```"
   ]
  },
  {
   "cell_type": "markdown",
   "metadata": {},
   "source": [
    "### 🛠  &nbsp;  No Spaces In Function Definitions, Either"
   ]
  },
  {
   "cell_type": "markdown",
   "metadata": {},
   "source": [
    "```\n",
    "def cels (t):          ## No\n",
    "    ...\n",
    "```\n",
    "\n",
    "```\n",
    "def cels(t):           ## Yes\n",
    "    ...\n",
    "```"
   ]
  },
  {
   "cell_type": "markdown",
   "metadata": {},
   "source": [
    "## Formatting Output "
   ]
  },
  {
   "cell_type": "markdown",
   "metadata": {},
   "source": [
    "You may have noticed that Python automatically adds spaces between values when they are printed:"
   ]
  },
  {
   "cell_type": "code",
   "execution_count": 40,
   "metadata": {},
   "outputs": [
    {
     "name": "stdout",
     "output_type": "stream",
     "text": [
      "7 6\n"
     ]
    }
   ],
   "source": [
    "a = 7\n",
    "b = 6\n",
    "\n",
    "print(a,b)"
   ]
  },
  {
   "cell_type": "markdown",
   "metadata": {},
   "source": [
    "That can be a problem when we want to print nicely formatted output\n",
    "* the output below would look a lot better if there wasn't a space after the dollar sign"
   ]
  },
  {
   "cell_type": "code",
   "execution_count": 41,
   "metadata": {},
   "outputs": [
    {
     "name": "stdout",
     "output_type": "stream",
     "text": [
      "You will pay $ 432.5 per month\n"
     ]
    }
   ],
   "source": [
    "payment = 432.50\n",
    "\n",
    "print('You will pay $', payment, 'per month')"
   ]
  },
  {
   "cell_type": "markdown",
   "metadata": {},
   "source": [
    "### Output Templates "
   ]
  },
  {
   "cell_type": "markdown",
   "metadata": {},
   "source": [
    "Python allows us to define a \"template\" that consists of text and placeholders\n",
    "* we'll call a method named `format`, passing it values to insert into the template"
   ]
  },
  {
   "cell_type": "markdown",
   "metadata": {},
   "source": [
    "Placeholders are pairs of braces (\"curly brackets\")\n",
    "* notice how in this template the dollar sign is right next to the placeholder so there won't be any extra space"
   ]
  },
  {
   "cell_type": "code",
   "execution_count": 42,
   "metadata": {},
   "outputs": [],
   "source": [
    "t = 'You will pay ${} per month'"
   ]
  },
  {
   "cell_type": "markdown",
   "metadata": {},
   "source": [
    "### `format` "
   ]
  },
  {
   "cell_type": "markdown",
   "metadata": {},
   "source": [
    "The template is a string, and we can use it by calling a string method named `format`"
   ]
  },
  {
   "cell_type": "code",
   "execution_count": 43,
   "metadata": {},
   "outputs": [
    {
     "data": {
      "text/plain": [
       "'You will pay $432.5 per month'"
      ]
     },
     "execution_count": 43,
     "metadata": {},
     "output_type": "execute_result"
    }
   ],
   "source": [
    "t.format(432.50)"
   ]
  },
  {
   "cell_type": "code",
   "execution_count": 44,
   "metadata": {},
   "outputs": [
    {
     "data": {
      "text/plain": [
       "'You will pay $11.99 per month'"
      ]
     },
     "execution_count": 44,
     "metadata": {},
     "output_type": "execute_result"
    }
   ],
   "source": [
    "t.format(11.99)"
   ]
  },
  {
   "cell_type": "markdown",
   "metadata": {},
   "source": [
    "### Details "
   ]
  },
  {
   "cell_type": "markdown",
   "metadata": {},
   "source": [
    "In general a template can have more than one placeholder\n",
    "* if there are $n$ placeholders, pass $n$ arguments in the call\n",
    "* the arguments are turned into strings and inserted into the template"
   ]
  },
  {
   "cell_type": "markdown",
   "metadata": {},
   "source": [
    "###  You Don't Need to Define the Template Ahead of Time"
   ]
  },
  {
   "cell_type": "markdown",
   "metadata": {},
   "source": [
    "It's common to see a `print` that includes a template and a call to `format` all in the same statement:"
   ]
  },
  {
   "cell_type": "code",
   "execution_count": 45,
   "metadata": {},
   "outputs": [
    {
     "name": "stdout",
     "output_type": "stream",
     "text": [
      "7 × 6 = 42\n"
     ]
    }
   ],
   "source": [
    "print('{} × {} = {}'.format(a, b, a*b))"
   ]
  },
  {
   "cell_type": "markdown",
   "metadata": {},
   "source": [
    "### Placeholders Can Have Types "
   ]
  },
  {
   "cell_type": "markdown",
   "metadata": {},
   "source": [
    "We can include extra information inside a placeholder.  In this template\n",
    "* `:3d` means \"the value inserted here will be formatted as a 3-digit integer\""
   ]
  },
  {
   "cell_type": "code",
   "execution_count": 46,
   "metadata": {},
   "outputs": [
    {
     "name": "stdout",
     "output_type": "stream",
     "text": [
      "  2 × 7 =  14\n",
      "  3 × 7 =  21\n",
      "  5 × 7 =  35\n",
      "  7 × 7 =  49\n",
      " 11 × 7 =  77\n",
      " 13 × 7 =  91\n",
      " 17 × 7 = 119\n",
      " 19 × 7 = 133\n",
      " 23 × 7 = 161\n"
     ]
    }
   ],
   "source": [
    "for n in [2,3,5,7,11,13,17,19,23]:\n",
    "    print('{:3d} × 7 = {:3d}'.format(n,7*n))"
   ]
  },
  {
   "cell_type": "markdown",
   "metadata": {},
   "source": [
    "Here is another format that prints a dollar amount.  This time the placeholder says the amount will be a float printed with 2 digits following the decimal point."
   ]
  },
  {
   "cell_type": "code",
   "execution_count": null,
   "metadata": {},
   "outputs": [],
   "source": [
    "for n in [6,12,24,36]:\n",
    "    total = n * 11.99\n",
    "    print('Total payments over {:2d} months will be ${:.2f}'.format(n, total))"
   ]
  },
  {
   "cell_type": "markdown",
   "metadata": {},
   "source": [
    "### Mini-Language "
   ]
  },
  {
   "cell_type": "markdown",
   "metadata": {},
   "source": [
    "There are a lot of things we can include in a template\n",
    "* print numbers in decimal, binary, hexadecimal (base 16), ...\n",
    "* print numbers in scientific notation, _e.g._ $3.42 \\times 10^3$\n",
    "* align strings on the left or right side or center them"
   ]
  },
  {
   "cell_type": "markdown",
   "metadata": {},
   "source": [
    "Learn more about this \"format mini-language\" at [docs.python.org](https://docs.python.org/3.7/library/string.html#formatspec])"
   ]
  },
  {
   "cell_type": "markdown",
   "metadata": {},
   "source": [
    "## In-Class Project: CpG Islands"
   ]
  },
  {
   "cell_type": "markdown",
   "metadata": {},
   "source": [
    "Let's write a program together.  \n",
    "\n",
    "Earlier we wrote a function to compute GC content (percentage of letters in a DNA sequence that are either G or C).\n",
    "\n",
    "The new program will compute the CpG ratio: a statistic that indicates whether there are more CG dinucleotides than expected (a metric used by \"gene finder\" algorithms).\n"
   ]
  },
  {
   "cell_type": "markdown",
   "metadata": {},
   "source": [
    "#### Notebook "
   ]
  },
  {
   "cell_type": "markdown",
   "metadata": {},
   "source": [
    "Download `CpG.ipynb` from the Bi 410 server -- start a Docker shell, then\n",
    "```\n",
    "$ cd Bi410\n",
    "$ download CpG.ipynb\n",
    "```"
   ]
  },
  {
   "cell_type": "markdown",
   "metadata": {},
   "source": [
    "### Methodology "
   ]
  },
  {
   "cell_type": "markdown",
   "metadata": {},
   "source": [
    "Here is our recommended process for writing programs"
   ]
  },
  {
   "cell_type": "markdown",
   "metadata": {},
   "source": [
    "#### (1) Create the basic notebook structure common to all projects: "
   ]
  },
  {
   "cell_type": "markdown",
   "metadata": {},
   "source": [
    "For Bi 410/510 projects the notebooks are (probably) already created.  If not, we suggest the following structure:"
   ]
  },
  {
   "cell_type": "markdown",
   "metadata": {},
   "source": [
    "* an **introduction** that gives necessary background, including examples\n",
    "* a section for a **specification**\n",
    "  * a precise statement of the arguments passed to the function and the object(s) that will be returned\n",
    "* code cells for the **implementation**\n",
    "  * to start with, just put in a \"stub\" that has the `def` statement and `pass`\n",
    "* code cells for **tests** (calls to the function)\n",
    "  * for each test specify the expected results\n",
    "  * suggestion: write the test cells even before implementing the function\n"
   ]
  },
  {
   "cell_type": "markdown",
   "metadata": {},
   "source": [
    "#### 💎 &nbsp; (2) Write a \"to do\" list "
   ]
  },
  {
   "cell_type": "markdown",
   "metadata": {},
   "source": [
    "For all but the simplest projects (something the size and complexity of the `cels` function) you're going to need a plan\n",
    "\n",
    "We suggest you write down the steps, in English, that you need to accomplish\n",
    "\n",
    "Jupyter Notebooks are great for this strategy:  add a new markdown cell between the spec and the implementation, and write down the things you need to do"
   ]
  },
  {
   "cell_type": "markdown",
   "metadata": {},
   "source": [
    "#### 💎&nbsp; 💎 &nbsp; (3) Code and Test "
   ]
  },
  {
   "cell_type": "markdown",
   "metadata": {},
   "source": [
    "Now you can work your way through the \"to do\" list\n",
    "\n",
    "★ Each time you add a statement, or a small group of statements:\n",
    "* execute the code cell to (re)define the function\n",
    "* execute the code cells with your tests\n",
    "\n",
    "At first the answer will be incorrect, but you'll be able to test what you just implemented, to make sure it works"
   ]
  },
  {
   "cell_type": "markdown",
   "metadata": {},
   "source": [
    "#### 💎&nbsp; (4) Add Sandbox Cells as Needed "
   ]
  },
  {
   "cell_type": "markdown",
   "metadata": {},
   "source": [
    "Another great thing about Jupyter:  we can add code cells to try out expressions, test string methods, _etc_.\n",
    "\n",
    "Example:  the GC project will use a string method named `count`.  If you're not sure how it works, add some code cells, type some expressions that tests how `count` works.\n",
    "\n",
    "You can add sandbox cells at any time -- while you are making the To Do list, or if you get stuck while implementing one of the steps."
   ]
  },
  {
   "cell_type": "markdown",
   "metadata": {},
   "source": [
    "### Continual Testing "
   ]
  },
  {
   "cell_type": "markdown",
   "metadata": {},
   "source": [
    "The test-while-coding strategy described above is widely used in the software industry and is **strongly recommended** for Bi 410/510"
   ]
  },
  {
   "cell_type": "markdown",
   "metadata": {},
   "source": [
    "👉 &nbsp; &nbsp; Find mistakes as soon as you make them"
   ]
  },
  {
   "cell_type": "markdown",
   "metadata": {},
   "source": [
    "👉 &nbsp; &nbsp; If you put off testing too long, mistakes will accumulate, and when you finally start debugging you'll have a much harder time finding the \"needles in a haystack\""
   ]
  }
 ],
 "metadata": {
  "kernelspec": {
   "display_name": "Python 3",
   "language": "python",
   "name": "python3"
  },
  "language_info": {
   "codemirror_mode": {
    "name": "ipython",
    "version": 3
   },
   "file_extension": ".py",
   "mimetype": "text/x-python",
   "name": "python",
   "nbconvert_exporter": "python",
   "pygments_lexer": "ipython3",
   "version": "3.7.1"
  },
  "varInspector": {
   "cols": {
    "lenName": 16,
    "lenType": 16,
    "lenVar": 40
   },
   "kernels_config": {
    "python": {
     "delete_cmd_postfix": "",
     "delete_cmd_prefix": "del ",
     "library": "var_list.py",
     "varRefreshCmd": "print(var_dic_list())"
    },
    "r": {
     "delete_cmd_postfix": ") ",
     "delete_cmd_prefix": "rm(",
     "library": "var_list.r",
     "varRefreshCmd": "cat(var_dic_list()) "
    }
   },
   "types_to_exclude": [
    "module",
    "function",
    "builtin_function_or_method",
    "instance",
    "_Feature"
   ],
   "window_display": false
  }
 },
 "nbformat": 4,
 "nbformat_minor": 4
}
