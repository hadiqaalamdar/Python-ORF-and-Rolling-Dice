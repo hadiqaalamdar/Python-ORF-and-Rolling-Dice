{
 "cells": [
  {
   "cell_type": "markdown",
   "metadata": {},
   "source": [
    "##### 6 Nov 2019 "
   ]
  },
  {
   "cell_type": "markdown",
   "metadata": {},
   "source": [
    "# Data Visualization with `pyplot` (Cont'd)"
   ]
  },
  {
   "cell_type": "markdown",
   "metadata": {},
   "source": [
    "#### Reading: "
   ]
  },
  {
   "cell_type": "markdown",
   "metadata": {},
   "source": [
    "* The tutorial at `matplotlib.org`\n",
    "  * select `matplotlib` from the Help menu in a Jupyter notebook)\n",
    "  * click on Tutorials, then Pyplot Tutorial"
   ]
  },
  {
   "cell_type": "markdown",
   "metadata": {},
   "source": [
    "#### In this notebook: "
   ]
  },
  {
   "cell_type": "markdown",
   "metadata": {},
   "source": [
    "* bar charts\n",
    "* histograms\n",
    "* scatter plots (fancier dot plots)\n",
    "* color maps"
   ]
  },
  {
   "cell_type": "code",
   "execution_count": 1,
   "metadata": {},
   "outputs": [],
   "source": [
    "import matplotlib.pyplot as plt\n",
    "%matplotlib inline"
   ]
  },
  {
   "cell_type": "markdown",
   "metadata": {},
   "source": [
    "## Bar Charts "
   ]
  },
  {
   "cell_type": "markdown",
   "metadata": {},
   "source": [
    "A \"bar chart\", as the name implies, is a set of bars\n",
    "* bars can be vertical (as in the example below) or horizontal\n",
    "\n",
    "To make a chart:\n",
    "* call a function named `bar`\n",
    "* the first argument is a list of $x$ coordinates that define the left edges of the bars\n",
    "* the second argument is a list of $y$ coordinates that specify the tops of the bars"
   ]
  },
  {
   "cell_type": "code",
   "execution_count": 2,
   "metadata": {},
   "outputs": [
    {
     "data": {
      "image/png": "[encoded data removed]",
      "text/plain": [
       "<Figure size 432x288 with 1 Axes>"
      ]
     },
     "metadata": {
      "needs_background": "light"
     },
     "output_type": "display_data"
    }
   ],
   "source": [
    "data = [5, 3, 9, 5, 7, 2]\n",
    "x = list(range(len(data)))\n",
    "plt.bar(x, data)\n",
    "plt.show()"
   ]
  },
  {
   "cell_type": "markdown",
   "metadata": {},
   "source": [
    "#### Details "
   ]
  },
  {
   "cell_type": "markdown",
   "metadata": {},
   "source": [
    "By default:\n",
    "* bar thickness is set so the right edge of a bar is 80% of the way to the left edge of the next bar\n",
    "* the bottom edge is at 0\n",
    "\n",
    "Similarities with `plot`:\n",
    "* the size of the graphic is determined automatically (pass additional arguments if you want to control them yourself)\n",
    "* axes and tick marks are drawn automatically\n",
    "\n",
    "One important difference:\n",
    "* we have to pass a list of $x$ coordinates -- we can't just call `bar(data)` and have the function supply default $x$ values"
   ]
  },
  {
   "cell_type": "markdown",
   "metadata": {},
   "source": [
    "## Bar Chart Options "
   ]
  },
  {
   "cell_type": "markdown",
   "metadata": {},
   "source": [
    "This example shows some of the \"bells and whistles\" available for bar charts"
   ]
  },
  {
   "cell_type": "code",
   "execution_count": 3,
   "metadata": {},
   "outputs": [
    {
     "data": {
      "image/png": "[encoded data removed]",
      "text/plain": [
       "<Figure size 432x288 with 1 Axes>"
      ]
     },
     "metadata": {
      "needs_background": "light"
     },
     "output_type": "display_data"
    }
   ],
   "source": [
    "from random import randint\n",
    "from string import ascii_uppercase\n",
    "\n",
    "nbars = 10\n",
    "\n",
    "loc = list(range(nbars))           # locations (x coords) of bars\n",
    "b = []                             # box bottoms\n",
    "h = []                             # box heights\n",
    "s = []                             # label strings\n",
    "\n",
    "for i in range(nbars):\n",
    "    b.append(randint(1,5))\n",
    "    h.append(randint(1,6))\n",
    "    s.append(ascii_uppercase[i])   # will blow up if nbars > 26\n",
    "    \n",
    "plt.bar(\n",
    "    loc, \n",
    "    bottom=b, \n",
    "    height=h, \n",
    "    width=0.5, \n",
    "    align='center', \n",
    "    color='lightsteelblue', \n",
    "    edgecolor='black', \n",
    "    tick_label=s\n",
    ")\n",
    "\n",
    "plt.axis([-1, nbars, 0, 12 ])\n",
    "plt.show()"
   ]
  },
  {
   "cell_type": "markdown",
   "metadata": {},
   "source": [
    "#### Details "
   ]
  },
  {
   "cell_type": "markdown",
   "metadata": {},
   "source": [
    "* the list of $x$ coordinates is the only required argument\n",
    "\n",
    "* in this example, instead of passing a second argument with $y$ coordinates of the tops of boxes, we pass two **named arguments** (`bottom` and `height`) to show the lower and upper coordinates of each bar\n",
    "\n",
    "* the `width` and `align` arguments specify the horizontal box size and placement \n",
    "\n",
    "* the box color and the color of the edge around a box can be different\n",
    "\n",
    "* the `tick_label` argument is a list of strings"
   ]
  },
  {
   "cell_type": "markdown",
   "metadata": {},
   "source": [
    "## Another Bar Chart Example "
   ]
  },
  {
   "cell_type": "markdown",
   "metadata": {},
   "source": [
    "This example makes groups of bars\n",
    "* we want groups of 3 bars, with a horizontal space between each group\n",
    "* there should be 5 groups in all\n",
    "\n",
    "That means\n",
    "* the first set should be at $x$ = 1, 5, 9, 13, 17\n",
    "* the second should have $x$ = 2, 6, 10, 14, 18\n",
    "* the third should have $x$ = 3, 7, 11, 15, 19"
   ]
  },
  {
   "cell_type": "markdown",
   "metadata": {},
   "source": [
    "First, some experiments in sandbox cells to figure out how to make the `x` values"
   ]
  },
  {
   "cell_type": "code",
   "execution_count": 4,
   "metadata": {},
   "outputs": [
    {
     "data": {
      "text/plain": [
       "[0, 1, 2, 3, 4]"
      ]
     },
     "execution_count": 4,
     "metadata": {},
     "output_type": "execute_result"
    }
   ],
   "source": [
    "[n for n in range(5)]"
   ]
  },
  {
   "cell_type": "code",
   "execution_count": 5,
   "metadata": {},
   "outputs": [
    {
     "data": {
      "text/plain": [
       "[1, 5, 9, 13, 17]"
      ]
     },
     "execution_count": 5,
     "metadata": {},
     "output_type": "execute_result"
    }
   ],
   "source": [
    "[n for n in range(1,18,4)]"
   ]
  },
  {
   "cell_type": "code",
   "execution_count": 6,
   "metadata": {},
   "outputs": [
    {
     "name": "stdout",
     "output_type": "stream",
     "text": [
      "[1, 5, 9, 13, 17]\n",
      "[2, 6, 10, 14, 18]\n",
      "[3, 7, 11, 15, 19]\n"
     ]
    }
   ],
   "source": [
    "for i in range(3):\n",
    "    x = [n+i for n in range(1,18,4)]\n",
    "    print(x)"
   ]
  },
  {
   "cell_type": "markdown",
   "metadata": {},
   "source": [
    "Here's the plot, using random values for the $y$ coordinates"
   ]
  },
  {
   "cell_type": "code",
   "execution_count": 7,
   "metadata": {},
   "outputs": [
    {
     "data": {
      "image/png": "[encoded data removed]",
      "text/plain": [
       "<Figure size 432x288 with 1 Axes>"
      ]
     },
     "metadata": {
      "needs_background": "light"
     },
     "output_type": "display_data"
    }
   ],
   "source": [
    "bar_colors = ['lightblue', 'dodgerblue', 'midnightblue']\n",
    "bar_labels = ['widgets', 'grommets', 'doodads']\n",
    "plt.axis([0,20,0,12])\n",
    "\n",
    "for i in range(3):\n",
    "    x = [n+i for n in range(1,18,4)]\n",
    "    y = [randint(3,9) for i in range(len(x))]\n",
    "    plt.bar(x, y, width=1, color=bar_colors[i], label=bar_labels[i])\n",
    "\n",
    "ax = plt.gca()\n",
    "ax.set_xticks([n for n in range(2,19,4)])   # set x label coords to match the middle bar\n",
    "ax.set_xticklabels(['α','β', 'γ', 'δ', 'ε'])\n",
    "plt.legend()\n",
    "plt.show()"
   ]
  },
  {
   "cell_type": "markdown",
   "metadata": {},
   "source": [
    "#### Details "
   ]
  },
  {
   "cell_type": "markdown",
   "metadata": {},
   "source": [
    "* the function named `gca` returns an \"axis\" object (`gca` = `get current axis`)\n",
    "* methods for this object can set labels, tick marks, tick labels, etc"
   ]
  },
  {
   "cell_type": "markdown",
   "metadata": {},
   "source": [
    "## Histograms "
   ]
  },
  {
   "cell_type": "markdown",
   "metadata": {},
   "source": [
    "A histogram looks like a bar chart\n",
    "* each bar is a \"bin\" -- a collection of values that fall in a certain range\n",
    "* pass a list of data values (of any length), the function will sort them into bins\n",
    "\n",
    "The default number of bins is 10\n",
    "\n",
    "The height of a bar is proportional to the number of items in the corresponding bin"
   ]
  },
  {
   "cell_type": "markdown",
   "metadata": {},
   "source": [
    "### Example #1 "
   ]
  },
  {
   "cell_type": "markdown",
   "metadata": {},
   "source": [
    "Make a list of 1000 numbers from a normal distribution\n",
    "* use $\\mu = 50$ and $\\sigma = 10$\n",
    "* expect most numbers to be within the range $30 < x < 70$ (two standard deviations from the mean)\n",
    "\n",
    "If there are 10 bins, the first will have numbers from 0 to 10, the second from 10 to 20, and so on."
   ]
  },
  {
   "cell_type": "code",
   "execution_count": 8,
   "metadata": {},
   "outputs": [
    {
     "data": {
      "image/png": "[encoded data removed]",
      "text/plain": [
       "<Figure size 432x288 with 1 Axes>"
      ]
     },
     "metadata": {
      "needs_background": "light"
     },
     "output_type": "display_data"
    }
   ],
   "source": [
    "from random import normalvariate\n",
    "\n",
    "a = [ normalvariate(50,10) for i in range(1000) ]\n",
    "\n",
    "plt.hist(a)\n",
    "#plt.hist(a, edgecolor='white')\n",
    "plt.show()"
   ]
  },
  {
   "cell_type": "markdown",
   "metadata": {},
   "source": [
    "#### Details "
   ]
  },
  {
   "cell_type": "markdown",
   "metadata": {},
   "source": [
    "* by default there is no space between the bars\n",
    "\n",
    "* the $x$ labels are inferred from the data\n",
    "\n",
    "* the height of a bar is the number of data points that fall in that bin"
   ]
  },
  {
   "cell_type": "markdown",
   "metadata": {},
   "source": [
    "### Example #2 "
   ]
  },
  {
   "cell_type": "markdown",
   "metadata": {},
   "source": [
    "With 100,000 values sorted into 100 bins we should see something a lot closer to a normal distribution"
   ]
  },
  {
   "cell_type": "code",
   "execution_count": 9,
   "metadata": {},
   "outputs": [
    {
     "data": {
      "image/png": "[encoded data removed]",
      "text/plain": [
       "<Figure size 432x288 with 1 Axes>"
      ]
     },
     "metadata": {
      "needs_background": "light"
     },
     "output_type": "display_data"
    }
   ],
   "source": [
    "a = [ normalvariate(50,10) for i in range(100000) ]\n",
    "\n",
    "plt.hist(a, bins=100, facecolor='skyblue')\n",
    "\n",
    "plt.show()"
   ]
  },
  {
   "cell_type": "code",
   "execution_count": 10,
   "metadata": {},
   "outputs": [
    {
     "name": "stdout",
     "output_type": "stream",
     "text": [
      "smallest: 8.302656932013058\n",
      "largest:  90.76708884095778\n"
     ]
    }
   ],
   "source": [
    "print('smallest:', min(a))\n",
    "print('largest: ', max(a))"
   ]
  },
  {
   "cell_type": "markdown",
   "metadata": {},
   "source": [
    "## Scatter Plots "
   ]
  },
  {
   "cell_type": "markdown",
   "metadata": {},
   "source": [
    "A scatter plot is basically the same as a \"dot plot\" (created by `plot`, using markers instead of lines)\n",
    "\n",
    "The difference:\n",
    "* in a dot plot, use the same **glyph** for each point, but in a scatter plot the appearance of each point can be based on the data\n",
    "\n",
    "<img src=\"https:pages.uoregon.edu/conery/Bi410/glyphdef.png\">"
   ]
  },
  {
   "cell_type": "markdown",
   "metadata": {},
   "source": [
    "### Example: Classroom Size and Capacity "
   ]
  },
  {
   "cell_type": "markdown",
   "metadata": {},
   "source": [
    "Here is a function that will build classroom data for a \"virtual university\".  Each room has four attributes:\n",
    "* width\n",
    "* depth\n",
    "* capacity (number of chairs)\n",
    "* college (a random int between 1 and n, the number of colleges in the university)\n",
    "\n",
    "The function returns four separate lists, all the same length (the number of rooms), that we can pass to the plot functions."
   ]
  },
  {
   "cell_type": "code",
   "execution_count": 23,
   "metadata": {},
   "outputs": [],
   "source": [
    "from random import normalvariate, randint\n",
    "\n",
    "def build_university(nrooms, ncolleges):\n",
    "    colleges = [ ]\n",
    "    widths = [ ]\n",
    "    depths = [ ]\n",
    "    capacities = [ ]\n",
    "    i = 0\n",
    "    while i < nrooms:\n",
    "        x = normalvariate(30,5)             # choose a random size\n",
    "        if x > 0:\n",
    "            w = int(normalvariate(x,5))     # width, depth, and capacity are related\n",
    "            d = int(normalvariate(x,5))     # to the starting size\n",
    "            widths.append(w)\n",
    "            depths.append(d)\n",
    "            capacities.append(d*w/5)\n",
    "            colleges.append(randint(1,ncolleges))\n",
    "            i += 1\n",
    "    return colleges, widths, depths, capacities"
   ]
  },
  {
   "cell_type": "markdown",
   "metadata": {},
   "source": [
    "Create the lists for a university with 50 rooms randomly assigned to 8 colleges:"
   ]
  },
  {
   "cell_type": "code",
   "execution_count": 24,
   "metadata": {},
   "outputs": [],
   "source": [
    "college, width, depth, cap = build_university(50, 8)"
   ]
  },
  {
   "cell_type": "code",
   "execution_count": 25,
   "metadata": {},
   "outputs": [
    {
     "data": {
      "text/plain": [
       "[43, 44, 43, 41, 30, 26, 33, 26, 36, 20]"
      ]
     },
     "execution_count": 25,
     "metadata": {},
     "output_type": "execute_result"
    }
   ],
   "source": [
    "width[0:10]"
   ]
  },
  {
   "cell_type": "code",
   "execution_count": 26,
   "metadata": {},
   "outputs": [
    {
     "data": {
      "text/plain": [
       "[41, 24, 31, 43, 27, 19, 35, 24, 30, 29]"
      ]
     },
     "execution_count": 26,
     "metadata": {},
     "output_type": "execute_result"
    }
   ],
   "source": [
    "depth[0:10]"
   ]
  },
  {
   "cell_type": "markdown",
   "metadata": {},
   "source": [
    "### Basic Dot Plots with `scatter` "
   ]
  },
  {
   "cell_type": "markdown",
   "metadata": {},
   "source": [
    "The first plot uses the `scatter` function to plot all rooms, just using their width and depth to place the dots.\n",
    "    "
   ]
  },
  {
   "cell_type": "code",
   "execution_count": 27,
   "metadata": {},
   "outputs": [
    {
     "data": {
      "image/png": "[encoded data removed]",
      "text/plain": [
       "<Figure size 432x288 with 1 Axes>"
      ]
     },
     "metadata": {
      "needs_background": "light"
     },
     "output_type": "display_data"
    }
   ],
   "source": [
    "plt.scatter(width, depth)\n",
    "plt.show()"
   ]
  },
  {
   "cell_type": "markdown",
   "metadata": {},
   "source": [
    "We can also control the size (`s`) and color (`c`) of the dots\n",
    "* `alpha` specifies the transparency of each dot, and is a number between 0 (invisible) and 1 (opaque)."
   ]
  },
  {
   "cell_type": "code",
   "execution_count": 28,
   "metadata": {},
   "outputs": [
    {
     "data": {
      "image/png": "[encoded data removed]",
      "text/plain": [
       "<Figure size 432x288 with 1 Axes>"
      ]
     },
     "metadata": {
      "needs_background": "light"
     },
     "output_type": "display_data"
    }
   ],
   "source": [
    "plt.scatter(\n",
    "    width, \n",
    "    depth, \n",
    "    s=200,                    # <- size for every dot\n",
    "    c=\"lightgray\", \n",
    "    edgecolors=\"black\"\n",
    ")\n",
    "plt.show()"
   ]
  },
  {
   "cell_type": "markdown",
   "metadata": {},
   "source": [
    "### Glyph Size Based on Data"
   ]
  },
  {
   "cell_type": "markdown",
   "metadata": {},
   "source": [
    "If we pass a list of numbers as the value of `s` those numbers will determine the size of each glyph.\n",
    "\n",
    "In this example the size of a dot will be determined by the capacity of the room"
   ]
  },
  {
   "cell_type": "code",
   "execution_count": 29,
   "metadata": {},
   "outputs": [
    {
     "name": "stdout",
     "output_type": "stream",
     "text": [
      "width: [43, 44, 43, 41, 30, 26, 33, 26, 36, 20] ...\n",
      "depth: [41, 24, 31, 43, 27, 19, 35, 24, 30, 29] ...\n",
      "cap:   [352.6, 211.2, 266.6, 352.6, 162.0, 98.8, 231.0, 124.8, 216.0, 116.0] ...\n"
     ]
    }
   ],
   "source": [
    "print('width:', width[0:10], '...')\n",
    "print('depth:', depth[0:10], '...')\n",
    "print('cap:  ', cap[0:10], '...')"
   ]
  },
  {
   "cell_type": "code",
   "execution_count": 30,
   "metadata": {},
   "outputs": [
    {
     "data": {
      "image/png": "[encoded data removed]",
      "text/plain": [
       "<Figure size 432x288 with 1 Axes>"
      ]
     },
     "metadata": {
      "needs_background": "light"
     },
     "output_type": "display_data"
    }
   ],
   "source": [
    "plt.scatter(\n",
    "    width, \n",
    "    depth, \n",
    "    s=cap,               # <-- change \"s=20\" to \"s=cap\"\n",
    "    c=\"lightgray\", \n",
    "    edgecolors=\"black\", \n",
    "    alpha=0.5)\n",
    "plt.show()"
   ]
  },
  {
   "cell_type": "markdown",
   "metadata": {},
   "source": [
    "**Note:**  Each glyph in this plot conveys three pieces of information about a room:\n",
    "* room **width** (location on the $x$-axis)\n",
    "* room **depth** (location on the $y$-axis)\n",
    "* room **capacity** (area of the dot)"
   ]
  },
  {
   "cell_type": "markdown",
   "metadata": {},
   "source": [
    "### Color as an Attribute "
   ]
  },
  {
   "cell_type": "markdown",
   "metadata": {},
   "source": [
    "We can also color each glyph based on an attribute of the data"
   ]
  },
  {
   "cell_type": "markdown",
   "metadata": {},
   "source": [
    "In this example, the color of a circle is determined by the college the room belongs to\n",
    "* in this data set a college is a random number between 1 and 9"
   ]
  },
  {
   "cell_type": "code",
   "execution_count": 31,
   "metadata": {},
   "outputs": [
    {
     "name": "stdout",
     "output_type": "stream",
     "text": [
      "width:    [43, 44, 43, 41, 30, 26, 33, 26, 36, 20] ...\n",
      "depth:    [41, 24, 31, 43, 27, 19, 35, 24, 30, 29] ...\n",
      "college:  [6, 1, 1, 3, 3, 6, 6, 4, 4, 4] ...\n"
     ]
    }
   ],
   "source": [
    "print('width:   ', width[0:10], '...')\n",
    "print('depth:   ', depth[0:10], '...')\n",
    "print('college: ', college[0:10], '...')"
   ]
  },
  {
   "cell_type": "markdown",
   "metadata": {},
   "source": [
    "The argument named `c` is a list of color numbers, where the length of the list is the same length as the $x$ and $y$ coordinate lists\n",
    "* see \"color maps\" at the end of this notebook for an explanation of how the library picks which colors to use for each college number"
   ]
  },
  {
   "cell_type": "code",
   "execution_count": 32,
   "metadata": {},
   "outputs": [
    {
     "data": {
      "image/png": "[encoded data removed]",
      "text/plain": [
       "<Figure size 432x288 with 1 Axes>"
      ]
     },
     "metadata": {
      "needs_background": "light"
     },
     "output_type": "display_data"
    }
   ],
   "source": [
    "plt.scatter(width, depth, c=college, s=200, alpha=0.5)\n",
    "plt.show()"
   ]
  },
  {
   "cell_type": "markdown",
   "metadata": {},
   "source": [
    "**Note:**  Each glyph in this plot also conveys three pieces of information about a room:\n",
    "* room **width** (location on the $x$-axis)\n",
    "* room **depth** (location on the $y$-axis)\n",
    "* college (one of 8 colors, with a different color for each college)"
   ]
  },
  {
   "cell_type": "markdown",
   "metadata": {},
   "source": [
    "### Displaying All Four Attributes "
   ]
  },
  {
   "cell_type": "markdown",
   "metadata": {},
   "source": [
    "This plot uses all four attributes of each data point\n",
    "* glyph location ($x$ and $y$ coordinates) determined by room size (width and depth)\n",
    "* the area of a glyph is determined by the capacity of a room\n",
    "* the color depends on the college"
   ]
  },
  {
   "cell_type": "code",
   "execution_count": 33,
   "metadata": {},
   "outputs": [
    {
     "data": {
      "image/png": "[encoded data removed]",
      "text/plain": [
       "<Figure size 432x288 with 1 Axes>"
      ]
     },
     "metadata": {
      "needs_background": "light"
     },
     "output_type": "display_data"
    }
   ],
   "source": [
    "plt.scatter(width, depth, s=cap, c=college)\n",
    "plt.show()"
   ]
  },
  {
   "cell_type": "markdown",
   "metadata": {},
   "source": [
    "## Color Maps "
   ]
  },
  {
   "cell_type": "markdown",
   "metadata": {},
   "source": [
    "In the examples above the `scatter` function chose colors for each college using a **color map**\n",
    "* the default map is named \"Viridis\"\n",
    "* designed so that every point in the spectrum is perceived as equally intense\n",
    "\n",
    "If we have 8 colors, the library chooses 8 equally spaced locations along the spectrum\n",
    "\n",
    "<img src=\"https:pages.uoregon.edu/conery/Bi410/viridis_8.png\">"
   ]
  },
  {
   "cell_type": "markdown",
   "metadata": {},
   "source": [
    "See [Color Map Reference](https://matplotlib.org/gallery/color/colormap_reference.html) in the Pyplot documentation for more information\n",
    "* you can choose a different color map from the predefined collection (\"plasma\", \"rainbow\", \"twilight\", _etc_)\n",
    "* you can also define your own, use RGB values"
   ]
  },
  {
   "cell_type": "code",
   "execution_count": 35,
   "metadata": {
    "scrolled": true
   },
   "outputs": [
    {
     "data": {
      "image/png": "[encoded data removed]",
      "text/plain": [
       "<Figure size 432x288 with 1 Axes>"
      ]
     },
     "metadata": {
      "needs_background": "light"
     },
     "output_type": "display_data"
    }
   ],
   "source": [
    "n = 20\n",
    "\n",
    "x = list(range(1,n+1))\n",
    "\n",
    "plt.scatter(x, x, c=x, s=500, edgecolors=\"black\")\n",
    "plt.axis([0,n+1,0,n+1])\n",
    "plt.show()"
   ]
  },
  {
   "cell_type": "markdown",
   "metadata": {},
   "source": [
    "### Why Viridis? "
   ]
  },
  {
   "cell_type": "markdown",
   "metadata": {},
   "source": [
    "The default color map is **perceptually uniform**\n",
    "* see [Choosing Colormaps in Matplotlib](https://matplotlib.org/tutorials/colors/colormaps.html)"
   ]
  },
  {
   "cell_type": "markdown",
   "metadata": {},
   "source": [
    "As we move from left to right along the scale, intensity of the color increases linearly\n",
    "\n",
    "The \"classic\" colormaps like Rainbow and Jet have peaks in the middle, which makes the colors subjective\n",
    "* viewers give more importance to the brighter colors"
   ]
  },
  {
   "cell_type": "markdown",
   "metadata": {},
   "source": [
    "<img src=\"https://pages.uoregon.edu/conery/Bi410/perceptually_uniform_colormaps.jpg\" />"
   ]
  },
  {
   "cell_type": "markdown",
   "metadata": {},
   "source": [
    "<img src=\"https://pages.uoregon.edu/conery/Bi410/misc_colormaps.jpg\" />"
   ]
  },
  {
   "cell_type": "code",
   "execution_count": null,
   "metadata": {},
   "outputs": [],
   "source": []
  },
  {
   "cell_type": "code",
   "execution_count": null,
   "metadata": {},
   "outputs": [],
   "source": []
  }
 ],
 "metadata": {
  "kernelspec": {
   "display_name": "Python 3",
   "language": "python",
   "name": "python3"
  },
  "language_info": {
   "codemirror_mode": {
    "name": "ipython",
    "version": 3
   },
   "file_extension": ".py",
   "mimetype": "text/x-python",
   "name": "python",
   "nbconvert_exporter": "python",
   "pygments_lexer": "ipython3",
   "version": "3.7.1"
  },
  "varInspector": {
   "cols": {
    "lenName": 16,
    "lenType": 16,
    "lenVar": 40
   },
   "kernels_config": {
    "python": {
     "delete_cmd_postfix": "",
     "delete_cmd_prefix": "del ",
     "library": "var_list.py",
     "varRefreshCmd": "print(var_dic_list())"
    },
    "r": {
     "delete_cmd_postfix": ") ",
     "delete_cmd_prefix": "rm(",
     "library": "var_list.r",
     "varRefreshCmd": "cat(var_dic_list()) "
    }
   },
   "types_to_exclude": [
    "module",
    "function",
    "builtin_function_or_method",
    "instance",
    "_Feature"
   ],
   "window_display": false
  }
 },
 "nbformat": 4,
 "nbformat_minor": 4
}
