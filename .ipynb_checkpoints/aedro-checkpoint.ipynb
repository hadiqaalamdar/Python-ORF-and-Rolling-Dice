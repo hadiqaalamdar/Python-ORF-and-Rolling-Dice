{
 "cells": [
  {
   "cell_type": "markdown",
   "metadata": {},
   "source": [
    "#### Bi 410/510 (Fall 2019)"
   ]
  },
  {
   "cell_type": "markdown",
   "metadata": {},
   "source": [
    "Before you turn this problem in, make sure everything runs as expected. First, **restart the kernel** (in the menubar, select Kernel$\\rightarrow$Restart) and then **run all cells** (in the menubar, select Cell$\\rightarrow$Run All).\n",
    "\n",
    "Make sure you fill in any place that says `YOUR CODE HERE` or \"YOUR ANSWER HERE\", as well as your name and collaborators below:"
   ]
  },
  {
   "cell_type": "markdown",
   "metadata": {},
   "source": [
    "**Group Members**\n",
    "\n",
    "If this is a group submission edit this cell to add the names and e-mail addresses of the othrer people who worked on the project.\n",
    "* name (xxx@uoregon.edu)\n",
    "* name (xxx@uoregon.edu)\n",
    "* name (xxx@uoregon.edu)"
   ]
  },
  {
   "cell_type": "code",
   "execution_count": null,
   "metadata": {},
   "outputs": [],
   "source": []
  },
  {
   "cell_type": "markdown",
   "metadata": {},
   "source": [
    "## <span style=\"color:steelblue;\">Milestone 2a"
   ]
  },
  {
   "cell_type": "markdown",
   "metadata": {},
   "source": [
    "### <span style=\"color:steelblue;\">ERA</span>"
   ]
  },
  {
   "cell_type": "markdown",
   "metadata": {},
   "source": [
    "In baseball a pitcher’s earned run average (ERA) is defined to be the number of earned runs scored by the other team for every nine innings pitched. The formula is"
   ]
  },
  {
   "cell_type": "markdown",
   "metadata": {},
   "source": [
    "$$ \\mathrm{ERA} = 27 \\times \\frac{\\mathrm{runs}}{\\mathrm{outs}} $$"
   ]
  },
  {
   "cell_type": "markdown",
   "metadata": {},
   "source": [
    "For example, if a pitcher is in the game for 5 full innings (which is 15 outs) and the other team scores 2 runs, the ERA would be 3.6 (projecting he would allow an average of 3.6 runs if he pitched an entire 9 innings). \n",
    "\n",
    "Fill in the body of this definition of a function that computes ERA.  Arguments passed to the function will be the number of runs and outs, and the result returned should be the ERA rounded to two places."
   ]
  },
  {
   "cell_type": "code",
   "execution_count": 1,
   "metadata": {
    "deletable": false,
    "nbgrader": {
     "cell_type": "code",
     "checksum": "2782373395daae7dd10ddb3cfcc46f22",
     "grade": true,
     "grade_id": "era",
     "locked": false,
     "points": 3,
     "schema_version": 3,
     "solution": true,
     "task": false
    }
   },
   "outputs": [],
   "source": [
    "def era(runs, outs):\n",
    "    # YOUR CODE HERE\n",
    "    ERA= 27*(runs/outs)\n",
    "    ERA = float(\"%0.2f\" % (ERA))\n",
    "    return ERA"
   ]
  },
  {
   "cell_type": "markdown",
   "metadata": {},
   "source": [
    "##### Tests "
   ]
  },
  {
   "cell_type": "markdown",
   "metadata": {},
   "source": [
    "Pitch 5 full innings (15 outs), give up 2 runs, ERA should be 3.6."
   ]
  },
  {
   "cell_type": "code",
   "execution_count": 2,
   "metadata": {
    "deletable": false,
    "editable": false,
    "nbgrader": {
     "cell_type": "code",
     "checksum": "c4b9bb43a8a191d9a5569d842c478372",
     "grade": true,
     "grade_id": "cell-9305034026ed1261",
     "locked": true,
     "points": 1,
     "schema_version": 3,
     "solution": false,
     "task": false
    }
   },
   "outputs": [],
   "source": [
    "assert era(2,15) == 3.6"
   ]
  },
  {
   "cell_type": "markdown",
   "metadata": {},
   "source": [
    "Pitch 6 1/3 innings (19 outs), give up 4 runs, ERA should be 5.68."
   ]
  },
  {
   "cell_type": "code",
   "execution_count": 3,
   "metadata": {
    "deletable": false,
    "editable": false,
    "nbgrader": {
     "cell_type": "code",
     "checksum": "fda9fff58f68365fbee2c05ed80c6a32",
     "grade": true,
     "grade_id": "cell-116a4c44d874e69f",
     "locked": true,
     "points": 1,
     "schema_version": 3,
     "solution": false,
     "task": false
    }
   },
   "outputs": [],
   "source": [
    "assert era(4,19) == 5.68"
   ]
  },
  {
   "cell_type": "markdown",
   "metadata": {},
   "source": [
    "### <span style=\"color:steelblue;\">Rolling Dice</span>"
   ]
  },
  {
   "cell_type": "markdown",
   "metadata": {},
   "source": [
    "Python's `random` library has a function named `randint`.  When we pass `randint` two integers $x$ and $y$ it will return a random integer $x <= i <= y$.\n",
    "\n",
    "We can use `randint` as part of a program that plays a game like Monopoly where players roll two dice.  Fill in the definition of a function named `roll` so it calls `randint` twice, each time getting a random number between 1 and 6, and returns the sum of the two calls.\n",
    "\n",
    "**Optional:** your function can include a `print` statement that shows the results of the two calls to `randint`, _e.g._\n",
    "```\n",
    ">>> roll()\n",
    "6 + 3 = 9\n",
    "```"
   ]
  },
  {
   "cell_type": "code",
   "execution_count": 4,
   "metadata": {
    "deletable": false,
    "nbgrader": {
     "cell_type": "code",
     "checksum": "a28b5d1216fc35d846328e3f8a7e3f99",
     "grade": true,
     "grade_id": "roll",
     "locked": false,
     "points": 3,
     "schema_version": 3,
     "solution": true,
     "task": false
    }
   },
   "outputs": [],
   "source": [
    "from random import randint\n",
    "def roll():\n",
    "    # YOUR CODE HERE\n",
    "    x= randint(1,6)\n",
    "    y= randint(1,6)\n",
    "    result= x+y\n",
    "    print(x ,\" + \", y, \"= \",result)\n",
    "    return(result)"
   ]
  },
  {
   "cell_type": "markdown",
   "metadata": {},
   "source": [
    "##### Tests "
   ]
  },
  {
   "cell_type": "markdown",
   "metadata": {},
   "source": [
    "Each time you call `roll` you should get back a number between 2 and 12."
   ]
  },
  {
   "cell_type": "code",
   "execution_count": 5,
   "metadata": {
    "deletable": false,
    "editable": false,
    "nbgrader": {
     "cell_type": "code",
     "checksum": "32180e1fb6d430024b9b56e655ee00f1",
     "grade": true,
     "grade_id": "cell-e58641aa17c521ec",
     "locked": true,
     "points": 1,
     "schema_version": 3,
     "solution": false,
     "task": false
    }
   },
   "outputs": [
    {
     "name": "stdout",
     "output_type": "stream",
     "text": [
      "6  +  4 =  10\n"
     ]
    }
   ],
   "source": [
    "assert 2 <= roll() <= 12"
   ]
  },
  {
   "cell_type": "code",
   "execution_count": 6,
   "metadata": {
    "deletable": false,
    "editable": false,
    "nbgrader": {
     "cell_type": "code",
     "checksum": "efc7475ed4757a83778e0e868a973abe",
     "grade": true,
     "grade_id": "cell-f5cd45d48b25fafb",
     "locked": true,
     "points": 1,
     "schema_version": 3,
     "solution": false,
     "task": false
    }
   },
   "outputs": [
    {
     "name": "stdout",
     "output_type": "stream",
     "text": [
      "6  +  2 =  8\n"
     ]
    }
   ],
   "source": [
    "assert 2 <= roll() <= 12"
   ]
  },
  {
   "cell_type": "markdown",
   "metadata": {},
   "source": [
    "### <span style=\"color:steelblue;\">ORF</span>"
   ]
  },
  {
   "cell_type": "markdown",
   "metadata": {},
   "source": [
    "An _open reading frame_ (ORF) is a DNA sequence that begins with the start codon `ATG` and ends with one of the stop codons `TAA`, `TAG`, or `TGA` (another requirement is that the sequence length is a multiple of three, but we'll save that for a future project).\n",
    "\n",
    "Use the code cell below to write the definition of a function named `orf` that will be passed a single argument named `seq`.  The function should return True if `seq` is an ORF and False if it is not an ORF."
   ]
  },
  {
   "cell_type": "code",
   "execution_count": 7,
   "metadata": {
    "deletable": false,
    "nbgrader": {
     "cell_type": "code",
     "checksum": "483cf10e6b23629d6c2cf4ce2243f4e8",
     "grade": true,
     "grade_id": "orf",
     "locked": false,
     "points": 3,
     "schema_version": 3,
     "solution": true,
     "task": false
    }
   },
   "outputs": [],
   "source": [
    "def orf(seq):\n",
    "    # YOUR CODE HERE\n",
    "    if(seq[:3]==\"ATG\" and(seq[-3:]==\"TAA\" or seq[-3:]==\"TAG\" or seq[-3:]==\"TGA\")):\n",
    "#         if(seq[-3:]==\"TAA\" or seq[-3:]==\"TAG\" or seq[-3:]==\"TGA\"):\n",
    "        return True\n",
    "    return False"
   ]
  },
  {
   "cell_type": "markdown",
   "metadata": {},
   "source": [
    "##### Tests "
   ]
  },
  {
   "cell_type": "markdown",
   "metadata": {},
   "source": [
    "This string is an ORF sequence:"
   ]
  },
  {
   "cell_type": "code",
   "execution_count": 8,
   "metadata": {
    "deletable": false,
    "editable": false,
    "nbgrader": {
     "cell_type": "code",
     "checksum": "992e7e8fde9ac7012cbe1b15207cd29a",
     "grade": true,
     "grade_id": "cell-dc7c98e0a12e4694",
     "locked": true,
     "points": 1,
     "schema_version": 3,
     "solution": false,
     "task": false
    }
   },
   "outputs": [],
   "source": [
    "assert orf('ATGCAATGGGGATAA')"
   ]
  },
  {
   "cell_type": "markdown",
   "metadata": {},
   "source": [
    "None of these strings are ORFs:"
   ]
  },
  {
   "cell_type": "code",
   "execution_count": 9,
   "metadata": {
    "deletable": false,
    "editable": false,
    "nbgrader": {
     "cell_type": "code",
     "checksum": "12ea03ba2dec78e38e492f9e470876b3",
     "grade": true,
     "grade_id": "cell-7c9d42c2080534a8",
     "locked": true,
     "points": 1,
     "schema_version": 3,
     "solution": false,
     "task": false
    }
   },
   "outputs": [],
   "source": [
    "assert not orf('GATTACA')"
   ]
  },
  {
   "cell_type": "code",
   "execution_count": 10,
   "metadata": {
    "deletable": false,
    "editable": false,
    "nbgrader": {
     "cell_type": "code",
     "checksum": "f00dbc7a756c0a97770a5fc39ca7a6d4",
     "grade": true,
     "grade_id": "cell-51f5cc75bea52a7a",
     "locked": true,
     "points": 1,
     "schema_version": 3,
     "solution": false,
     "task": false
    }
   },
   "outputs": [],
   "source": [
    "assert not orf('ATGAAATTTGGG')"
   ]
  },
  {
   "cell_type": "code",
   "execution_count": 11,
   "metadata": {
    "deletable": false,
    "editable": false,
    "nbgrader": {
     "cell_type": "code",
     "checksum": "5e5154022a072c6c397dfc12ce98eeab",
     "grade": true,
     "grade_id": "cell-40ac0ad2b5449722",
     "locked": true,
     "points": 1,
     "schema_version": 3,
     "solution": false,
     "task": false
    }
   },
   "outputs": [],
   "source": [
    "assert not orf('CCCTAG')"
   ]
  },
  {
   "cell_type": "markdown",
   "metadata": {},
   "source": [
    "### <span style=\"color:red;\">Short Answer Question</span>"
   ]
  },
  {
   "cell_type": "markdown",
   "metadata": {},
   "source": [
    "Don't forget to complete the short-answer question on the exam page.\n",
    "\n",
    "Double-click on the markdown cell below and enter your answer in this cell."
   ]
  },
  {
   "cell_type": "markdown",
   "metadata": {
    "deletable": false,
    "nbgrader": {
     "cell_type": "markdown",
     "checksum": "63fda787575939d76e6a64df434e1d5c",
     "grade": true,
     "grade_id": "cell-e6aff85b4ff2c591",
     "locked": false,
     "points": 3,
     "schema_version": 3,
     "solution": true,
     "task": false
    }
   },
   "source": [
    "1- The repeat function returns 'no no no'\n",
    "\n",
    "2- The repeat function returns 'yeah'. An error does not occur since the function always returns a string s at least once. s*0 means that the string will be printed zero times but +s part causes the input string to be printed at least once."
   ]
  },
  {
   "cell_type": "code",
   "execution_count": null,
   "metadata": {},
   "outputs": [],
   "source": []
  }
 ],
 "metadata": {
  "kernelspec": {
   "display_name": "Python 3",
   "language": "python",
   "name": "python3"
  },
  "language_info": {
   "codemirror_mode": {
    "name": "ipython",
    "version": 3
   },
   "file_extension": ".py",
   "mimetype": "text/x-python",
   "name": "python",
   "nbconvert_exporter": "python",
   "pygments_lexer": "ipython3",
   "version": "3.7.1"
  },
  "nteract": {
   "version": "0.15.0"
  }
 },
 "nbformat": 4,
 "nbformat_minor": 2
}
