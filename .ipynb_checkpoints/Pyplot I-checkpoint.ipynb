{
 "cells": [
  {
   "cell_type": "markdown",
   "metadata": {},
   "source": [
    "##### 4 Nov 2019 "
   ]
  },
  {
   "cell_type": "markdown",
   "metadata": {},
   "source": [
    "# Data Visualization with `pyplot` "
   ]
  },
  {
   "cell_type": "markdown",
   "metadata": {},
   "source": [
    "#### Reading: "
   ]
  },
  {
   "cell_type": "markdown",
   "metadata": {},
   "source": [
    "* The tutorial at `matplotlib.org`\n",
    "  * select `matplotlib` from the Help menu in a Jupyter notebook)\n",
    "  * click on Tutorials, then Pyplot Tutorial"
   ]
  },
  {
   "cell_type": "markdown",
   "metadata": {},
   "source": [
    "#### List Comprehension"
   ]
  },
  {
   "cell_type": "markdown",
   "metadata": {},
   "source": [
    "Most examples in this notebook use lists of numbers \n",
    "* the lists are created using **list comprehension**\n",
    "* see the notes in `comprehensions.ipynb`"
   ]
  },
  {
   "cell_type": "markdown",
   "metadata": {},
   "source": [
    "## How to Use this Notebook "
   ]
  },
  {
   "cell_type": "markdown",
   "metadata": {},
   "source": [
    "This notebook is an introduction to a very large and complex topic\n",
    "* there will be lots of examples\n",
    "* the goal is to give you an idea of what's possible\n",
    "\n",
    "![sine waves](https://pages.uoregon.edu/conery/Bi410/sine_waves.png)"
   ]
  },
  {
   "cell_type": "markdown",
   "metadata": {},
   "source": [
    "What you should take away from this lecture\n",
    "* we can make line plots\n",
    "* lines can have different colors and styles\n",
    "* plots have labels and text\n",
    "\n",
    "What you should **not** do is try to memorize the names of the functions and their arguments\n",
    "\n",
    "Plan on looking up that information when you need it\n",
    "* this notebook (and the next one) will have examples of functions you need for projects and exams\n",
    "* there is a **lot** more to be found on-line\n",
    "* learn to browse documentation"
   ]
  },
  {
   "cell_type": "markdown",
   "metadata": {},
   "source": [
    "## Graphics Libraries "
   ]
  },
  {
   "cell_type": "markdown",
   "metadata": {},
   "source": [
    "Data scientists have several choices for applications to generate images based on data\n",
    "* Mathematica\n",
    "* MATLAB\n",
    "* R\n",
    "* many, many more"
   ]
  },
  {
   "cell_type": "markdown",
   "metadata": {},
   "source": [
    "If we want to use Python we also have lots of choices for graphics libraries\n",
    "* `matplotlib` (the one described in this notebook)\n",
    "* `ggplot` #grammer of graphics\n",
    "* `bokeh` (interactive graphics for web apps)\n",
    "* many more\n"
   ]
  },
  {
   "cell_type": "markdown",
   "metadata": {},
   "source": [
    "## `matplotlib` is in the Docker Container"
   ]
  },
  {
   "cell_type": "markdown",
   "metadata": {},
   "source": [
    "The library most often used with Jupyter is `matplotlib`\n",
    "\n",
    "It's already part of our Bi 410 container:\n",
    "```\n",
    "jovyan@fb4b89cce5b6:~$ pip show matplotlib\n",
    "Name: matplotlib\n",
    "Version: 3.1.1\n",
    "Summary: Python plotting package\n",
    "...\n",
    "```\n",
    "\n",
    "**Note:** If you are not using Docker you might have to install `matplotlib` yourself\n",
    "* probably already installed as part of Jupyter\n",
    "* if not, use `pip` or `conda` [come see us if you need help]"
   ]
  },
  {
   "cell_type": "markdown",
   "metadata": {},
   "source": [
    "## Graphics in a Notebook "
   ]
  },
  {
   "cell_type": "markdown",
   "metadata": {},
   "source": [
    "To have images produced by `matplotlib` included directly in a Juypter notebook execute this statement in a code cell:"
   ]
  },
  {
   "cell_type": "code",
   "execution_count": 1,
   "metadata": {},
   "outputs": [],
   "source": [
    "%matplotlib inline"
   ]
  },
  {
   "cell_type": "markdown",
   "metadata": {},
   "source": [
    "## `pyplot` "
   ]
  },
  {
   "cell_type": "markdown",
   "metadata": {},
   "source": [
    "The name `matplotlib` is short for \"Matlab style graphics in Python\"\n",
    "\n",
    "`pyplot` is a subset of the full library\n",
    "* simpler to use\n",
    "* conventions and syntax that is more familiar to Python programmers"
   ]
  },
  {
   "cell_type": "markdown",
   "metadata": {},
   "source": [
    "### Import (the Hard Way)"
   ]
  },
  {
   "cell_type": "markdown",
   "metadata": {},
   "source": [
    "As with all libraries, we have to import the parts we're going to use\n",
    "\n",
    "One way is to import the name of the library, and then refer to the functions using their full name\n",
    "\n",
    "Example: the function named `bar` will draw a bar chart:\n",
    "```\n",
    ">>> import matplotlib.pyplot\n",
    ">>> matplotlib.pyplot.bar(...)\n",
    "```"
   ]
  },
  {
   "cell_type": "markdown",
   "metadata": {},
   "source": [
    "### Import (a Better Way) "
   ]
  },
  {
   "cell_type": "markdown",
   "metadata": {},
   "source": [
    "It's going to be tedious typing (and reading!) `matplotlib.pyplot` all the time\n",
    "\n",
    "The common idiom for importing the library:"
   ]
  },
  {
   "cell_type": "code",
   "execution_count": 2,
   "metadata": {},
   "outputs": [],
   "source": [
    "import matplotlib.pyplot as plt"
   ]
  },
  {
   "cell_type": "markdown",
   "metadata": {},
   "source": [
    "Now we can refer to functions in the library using the syntax `plt.x`\n",
    "\n",
    "Example:  `plt.bar` draws a bar chart"
   ]
  },
  {
   "cell_type": "markdown",
   "metadata": {},
   "source": [
    "### Other Libraries "
   ]
  },
  {
   "cell_type": "markdown",
   "metadata": {},
   "source": [
    "The demos in this notebook use two other libraries to make the data for the examples:"
   ]
  },
  {
   "cell_type": "code",
   "execution_count": 3,
   "metadata": {},
   "outputs": [],
   "source": [
    "from math import *\n",
    "from random import randint, uniform, normalvariate"
   ]
  },
  {
   "cell_type": "markdown",
   "metadata": {},
   "source": [
    "## The Simplest Plot "
   ]
  },
  {
   "cell_type": "markdown",
   "metadata": {},
   "source": [
    "A very basic plot consists of a set of points with lines connecting them\n",
    "* define lists of $x$ and $y$ coordinates\n",
    "* draw lines from $(x_0,y_0)$ to $(x_1,y_1)$, then to $(x_2,y_2)$, and so on\n",
    "\n",
    "The Pyplot function that makes these plots is called `plot`"
   ]
  },
  {
   "cell_type": "markdown",
   "metadata": {},
   "source": [
    "### `plt.plot` with One Argument "
   ]
  },
  {
   "cell_type": "markdown",
   "metadata": {},
   "source": [
    "If we call `plot` with a single list of $n$ numbers:\n",
    "* the $x$ coordinates will be the numbers 0 to $n-1$\n",
    "* the $y$ coordinates are the values in the list"
   ]
  },
  {
   "cell_type": "code",
   "execution_count": 4,
   "metadata": {},
   "outputs": [],
   "source": [
    "a = [3,1,4,1,5,9,2,6,5,3]"
   ]
  },
  {
   "cell_type": "code",
   "execution_count": 5,
   "metadata": {},
   "outputs": [
    {
     "data": {
      "text/plain": [
       "[<matplotlib.lines.Line2D at 0x7fec7c7d2eb8>]"
      ]
     },
     "execution_count": 5,
     "metadata": {},
     "output_type": "execute_result"
    },
    {
     "data": {
      "image/png": "[encoded data removed]",
      "text/plain": [
       "<Figure size 432x288 with 1 Axes>"
      ]
     },
     "metadata": {
      "needs_background": "light"
     },
     "output_type": "display_data"
    }
   ],
   "source": [
    "plt.plot(a)"
   ]
  },
  {
   "cell_type": "markdown",
   "metadata": {},
   "source": [
    "### Default Layout"
   ]
  },
  {
   "cell_type": "markdown",
   "metadata": {},
   "source": [
    "Notice how the library automatically included a border around the plot\n",
    "* there are legends and \"tick marks\" on the $x$ and $y$ axes\n",
    "* there is a little white space as \"padding\" on both axes"
   ]
  },
  {
   "cell_type": "markdown",
   "metadata": {},
   "source": [
    "### Another Example "
   ]
  },
  {
   "cell_type": "markdown",
   "metadata": {},
   "source": [
    "This expression uses **list comprehension** to create a list of 100 random numbers\n",
    "* see the notebook named `comprehensions.ipynb`"
   ]
  },
  {
   "cell_type": "code",
   "execution_count": 6,
   "metadata": {},
   "outputs": [],
   "source": [
    "a = [ randint(20,70) for i in range(100) ]"
   ]
  },
  {
   "cell_type": "markdown",
   "metadata": {},
   "source": [
    "Here are the first 20 numbers in the list:"
   ]
  },
  {
   "cell_type": "code",
   "execution_count": 7,
   "metadata": {},
   "outputs": [
    {
     "name": "stdout",
     "output_type": "stream",
     "text": [
      "[63, 45, 69, 20, 68, 33, 45, 30, 67, 63, 31, 22, 28, 64, 48, 29, 59, 36, 68, 63]\n"
     ]
    }
   ],
   "source": [
    "print(a[:20])"
   ]
  },
  {
   "cell_type": "markdown",
   "metadata": {},
   "source": [
    "And here is a plot where $y$ values are the random numbers:"
   ]
  },
  {
   "cell_type": "code",
   "execution_count": 8,
   "metadata": {},
   "outputs": [
    {
     "data": {
      "text/plain": [
       "[<matplotlib.lines.Line2D at 0x7fec7c6fb2b0>]"
      ]
     },
     "execution_count": 8,
     "metadata": {},
     "output_type": "execute_result"
    },
    {
     "data": {
      "image/png": "[encoded data removed]",
      "text/plain": [
       "<Figure size 432x288 with 1 Axes>"
      ]
     },
     "metadata": {
      "needs_background": "light"
     },
     "output_type": "display_data"
    }
   ],
   "source": [
    "plt.plot(a)"
   ]
  },
  {
   "cell_type": "markdown",
   "metadata": {},
   "source": [
    "## Building a Plot in Stages"
   ]
  },
  {
   "cell_type": "markdown",
   "metadata": {},
   "source": [
    "We can call several graphics functions in one code cell\n",
    "* first call `plot` to make the drawing\n",
    "* call additional functions to add labels, set range of values, _etc_\n",
    "* call `show` to display the drawing"
   ]
  },
  {
   "cell_type": "code",
   "execution_count": 16,
   "metadata": {},
   "outputs": [
    {
     "data": {
      "image/png": "[encoded data removed]",
      "text/plain": [
       "<Figure size 432x288 with 1 Axes>"
      ]
     },
     "metadata": {
      "needs_background": "light"
     },
     "output_type": "display_data"
    }
   ],
   "source": [
    "a = [ randint(20,70) for i in range(25) ]\n",
    "\n",
    "plt.plot(a)\n",
    "plt.ylabel('random value')\n",
    "plt.xlabel('experiment')\n",
    "plt.title('Demonstration')\n",
    "plt.axis([-1, len(a), 0, 100])\n",
    "plt.show()"
   ]
  },
  {
   "cell_type": "markdown",
   "metadata": {},
   "source": [
    "### Details "
   ]
  },
  {
   "cell_type": "markdown",
   "metadata": {},
   "source": [
    "Call `xlabel`, `ylabel`, and `title` to add labels to the plot\n",
    "\n",
    "Pass a list of 4 numbers to `axis`:\n",
    "* the first two specify the minimum and maximum value for the $x$-axis\n",
    "* the second two specify minimum and maximum for the $y$-axis\n",
    "\n",
    "In this example we chose values that give some \"room\" around the data\n",
    "* list indices are 0 to $n-1$ so the $x$-axis ranges from -1 to $n$\n",
    "* data values range from 20 to 70 but we set the $y$-axis range as 0 to 100"
   ]
  },
  {
   "cell_type": "markdown",
   "metadata": {},
   "source": [
    "## Saving Figures in a File"
   ]
  },
  {
   "cell_type": "code",
   "execution_count": 15,
   "metadata": {},
   "outputs": [
    {
     "data": {
      "image/png": "[encoded data removed]",
      "text/plain": [
       "<Figure size 432x288 with 1 Axes>"
      ]
     },
     "metadata": {
      "needs_background": "light"
     },
     "output_type": "display_data"
    }
   ],
   "source": [
    "a = [ randint(20,70) for i in range(10) ]\n",
    "\n",
    "plt.plot(a)\n",
    "plt.ylabel('random value')\n",
    "plt.xlabel('experiment')\n",
    "plt.title('Demonstration')\n",
    "plt.axis([-1, len(a), 0, 100])\n",
    "plt.savefig('plotdemo.pdf')"
   ]
  },
  {
   "cell_type": "markdown",
   "metadata": {},
   "source": [
    "Call `savefig` instead of `show`\n",
    "* pass a file name to the function\n",
    "* it will figure out from the extension what sort of file to make\n"
   ]
  },
  {
   "cell_type": "markdown",
   "metadata": {},
   "source": [
    "If you're using JupyterLab the new file will appear in the directory listing on the left side of the JupyterLab window\n",
    "* double-click on the file name to view the file in a new panel"
   ]
  },
  {
   "cell_type": "markdown",
   "metadata": {},
   "source": [
    "### Aside:  PDF _vs_ PNG "
   ]
  },
  {
   "cell_type": "markdown",
   "metadata": {},
   "source": [
    "PNG (\"portable network graphics\") was designed for image data, such as photographs\n",
    "* high quality colors\n",
    "* transparency\n",
    "\n",
    "PNG images can be included in a web page\n",
    "\n",
    "PDF (\"portable document format\") was originally designed to be a standard for laser printers\n",
    "* applications can \"print to a PDF file\" to save a form that can be printed or viewed later\n",
    "* use PDF when you send a document (_e.g._ to your committee members, not all of whom have the same text processing application or same fonts you have on your system)\n",
    "\n",
    "PDF images can be scaled and can show much more data"
   ]
  },
  {
   "cell_type": "markdown",
   "metadata": {},
   "source": [
    "#### Live Demo \n",
    "\n",
    "Change \".png\" to \".pdf\" in the code cell above\n",
    "\n",
    "Open both files (`plotdemo.pdf` and `plotdemo.png`) in Preview or another app that can display graphics files"
   ]
  },
  {
   "cell_type": "markdown",
   "metadata": {},
   "source": [
    "## Plotting a Function "
   ]
  },
  {
   "cell_type": "markdown",
   "metadata": {},
   "source": [
    "To plot a function $f$:\n",
    "* define a list of $x$ values\n",
    "* make a list of $y$ values by computing $f(x)$ for every $x$\n",
    "* pass both lists to `plot`"
   ]
  },
  {
   "cell_type": "markdown",
   "metadata": {},
   "source": [
    "### Example:  Make a Plot of $\\mathrm{sin}(x)$ for $0 <= x <= 10$ "
   ]
  },
  {
   "cell_type": "markdown",
   "metadata": {},
   "source": [
    "First make a list of $x$ values that are close to each other\n",
    "* example:  `[0, 0.1, 0.2, 0.3, ...  9.8, 9.9]`\n",
    "\n",
    "Then make another list with the corresponding `sin` values\n",
    "* `[sin(0), sin(0.1), ...]`"
   ]
  },
  {
   "cell_type": "markdown",
   "metadata": {},
   "source": [
    "#### Question:  How Can I Make a List of $x$-Coordinates?"
   ]
  },
  {
   "cell_type": "markdown",
   "metadata": {},
   "source": [
    "If we want to make a list of $n$ points in the range from $a$ to $b$ we want the distance between points to be $$d = (b-a)/n$$\n",
    "\n",
    "* the first point is at $a$\n",
    "* the second is $a + 1/d$\n",
    "* the third is $a + 2/d$\n",
    "\n",
    "**Examples**\n",
    "\n",
    "10 points in the range 5 to 6: $d$ is 1/10 and the points are `[5.0, 5.1, 5.2, ... 5.9]`\n",
    "\n",
    "100 points from 0 to 10: $d$ is 1/10 and the points are  `[0, 0.1, 0.2, ... 9.9]`\n",
    "\n",
    "In Python:\n",
    "```\n",
    "d = (b-a)/n\n",
    "[ a + i*d for i in range(n) ]\n",
    "```"
   ]
  },
  {
   "cell_type": "markdown",
   "metadata": {},
   "source": [
    "#### A list of 100 points between 0 and 10"
   ]
  },
  {
   "cell_type": "code",
   "execution_count": 18,
   "metadata": {},
   "outputs": [],
   "source": [
    "d = 10 / 100\n",
    "x = [ i*d for i in range(100) ]"
   ]
  },
  {
   "cell_type": "code",
   "execution_count": 20,
   "metadata": {},
   "outputs": [
    {
     "name": "stdout",
     "output_type": "stream",
     "text": [
      "[0.0, 0.1, 0.2, 0.30000000000000004, 0.4]\n"
     ]
    }
   ],
   "source": [
    "print(x[:5])"
   ]
  },
  {
   "cell_type": "markdown",
   "metadata": {},
   "source": [
    "#### The Plot"
   ]
  },
  {
   "cell_type": "markdown",
   "metadata": {},
   "source": [
    "Now that we have the $x$ coordinates we can make the corresponding $y$ values:"
   ]
  },
  {
   "cell_type": "code",
   "execution_count": 21,
   "metadata": {},
   "outputs": [],
   "source": [
    "y = [ sin(theta) for theta in x ]"
   ]
  },
  {
   "cell_type": "code",
   "execution_count": 22,
   "metadata": {},
   "outputs": [
    {
     "name": "stdout",
     "output_type": "stream",
     "text": [
      "[0.0, 0.09983341664682815, 0.19866933079506122, 0.2955202066613396, 0.3894183423086505]\n"
     ]
    }
   ],
   "source": [
    "print(y[0:5])"
   ]
  },
  {
   "cell_type": "code",
   "execution_count": 23,
   "metadata": {},
   "outputs": [
    {
     "data": {
      "text/plain": [
       "0.19866933079506122"
      ]
     },
     "execution_count": 23,
     "metadata": {},
     "output_type": "execute_result"
    }
   ],
   "source": [
    "sin(0.2)"
   ]
  },
  {
   "cell_type": "markdown",
   "metadata": {},
   "source": [
    "Now pass two arguments in the call to `plot`\n",
    "* the lists should be the same length\n",
    "* the first will be the set of $x$ coordinates\n",
    "* the second is the list of $y$ coordinates"
   ]
  },
  {
   "cell_type": "code",
   "execution_count": 24,
   "metadata": {},
   "outputs": [
    {
     "data": {
      "image/png": "[encoded data removed]",
      "text/plain": [
       "<Figure size 432x288 with 1 Axes>"
      ]
     },
     "metadata": {
      "needs_background": "light"
     },
     "output_type": "display_data"
    }
   ],
   "source": [
    "plt.plot(x,y)\n",
    "plt.xlabel('x')\n",
    "plt.ylabel('y')\n",
    "plt.title('A sine wave')\n",
    "plt.axis([-2, 12, -1.5, 1.5])\n",
    "plt.grid(True)                   # <- new function: add grid lines to the plot\n",
    "plt.show()"
   ]
  },
  {
   "cell_type": "markdown",
   "metadata": {},
   "source": [
    "## Multiple Lines (and More Decorations) "
   ]
  },
  {
   "cell_type": "markdown",
   "metadata": {},
   "source": [
    "We can call `plot` as many times as we want\n",
    "* the first call creates the figure\n",
    "* the remaining calls add \"overlays\""
   ]
  },
  {
   "cell_type": "code",
   "execution_count": 25,
   "metadata": {},
   "outputs": [
    {
     "data": {
      "image/png": "[encoded data removed]",
      "text/plain": [
       "<Figure size 432x288 with 1 Axes>"
      ]
     },
     "metadata": {
      "needs_background": "light"
     },
     "output_type": "display_data"
    }
   ],
   "source": [
    "x = [ n/10 for n in range(100) ]\n",
    "\n",
    "a = [ sin(theta) for theta in x ]\n",
    "b = [ cos(theta) for theta in x ]\n",
    "\n",
    "plt.plot(x, a, '.', label='sine')        #  'b-' means blue line\n",
    "plt.plot(x, b, 'r--', label='cosine')     #  'r--' means red dashed line\n",
    "plt.legend(loc='lower left')\n",
    "plt.axis([-2, 11, -1.5, 1.5])\n",
    "plt.annotate('interesting?', xy=(2.5,a[25]), xytext=(2.5,a[25]+0.5), arrowprops={'arrowstyle':'->'})\n",
    "plt.savefig('sine_waves.png')"
   ]
  },
  {
   "cell_type": "markdown",
   "metadata": {},
   "source": [
    "#### Plot Style"
   ]
  },
  {
   "cell_type": "markdown",
   "metadata": {},
   "source": [
    "The 3rd argument passed to `plot` is a string that specifies style options\n",
    "* the first character is a color (`r` for red, `b` for blue, _etc_)\n",
    "* remaining characters define plot types (solid line, dotted line, _etc_)\n",
    "\n",
    "We'll see more options below."
   ]
  },
  {
   "cell_type": "markdown",
   "metadata": {},
   "source": [
    "#### Legend "
   ]
  },
  {
   "cell_type": "markdown",
   "metadata": {},
   "source": [
    "We can pass many more parameters to `plot`\n",
    "* all subsequence parameters are `key = value` pairs\n",
    "\n",
    "In the example above, we're passing labels in the calls to `plot`\n",
    "\n",
    "The labels are saved and displayed later when we call the `legend` function (see the lower left of the plot above)"
   ]
  },
  {
   "cell_type": "markdown",
   "metadata": {},
   "source": [
    "#### Annotations "
   ]
  },
  {
   "cell_type": "markdown",
   "metadata": {},
   "source": [
    "The `annotate` function places notes, arrows, and other items in the plot\n",
    "* specify the $x$ and $y$ coordinates of where the annotation should go\n",
    "* remaining arguments are style and configuration options"
   ]
  },
  {
   "cell_type": "markdown",
   "metadata": {},
   "source": [
    "## Colors, Markers, and Line Styles "
   ]
  },
  {
   "cell_type": "markdown",
   "metadata": {},
   "source": [
    "The strings `b-` and `r--` in the above example are **format strings**\n",
    "\n",
    "For more information display the help string for the `plot` function\n",
    "* format strings are described in the \"Notes\" section"
   ]
  },
  {
   "cell_type": "code",
   "execution_count": 28,
   "metadata": {},
   "outputs": [],
   "source": [
    "# ? plt.plot"
   ]
  },
  {
   "cell_type": "markdown",
   "metadata": {},
   "source": [
    "#### Color "
   ]
  },
  {
   "cell_type": "markdown",
   "metadata": {},
   "source": [
    "If you want to specify something besides the default color use a 1-letter color name:\n",
    "``'b'``          blue\n",
    "``'g'``          green\n",
    "``'r'``          red\n",
    "``'c'``          cyan\n",
    "``'m'``          magenta\n",
    "``'y'``          yellow\n",
    "``'k'``          black\n",
    "``'w'``          white\n",
    "\n",
    "If there is no color letter the default color is used."
   ]
  },
  {
   "cell_type": "markdown",
   "metadata": {},
   "source": [
    "#### Marker "
   ]
  },
  {
   "cell_type": "markdown",
   "metadata": {},
   "source": [
    "Next is a one-letter code that specfies how to draw the points:  `o` for circle, `*` for a star, `^` for a triangle, `v` for an upside down triangle, and so on (over 20 choices in all)\n",
    "* none of the example so far has used markers\n",
    "* the default is a \"point\" that is the same color and thickness as the line"
   ]
  },
  {
   "cell_type": "markdown",
   "metadata": {},
   "source": [
    "#### Line Style "
   ]
  },
  {
   "cell_type": "markdown",
   "metadata": {},
   "source": [
    "The last part of the format string specifies how the points are connected:  `-` for a solid line (the default), `:` for a dotted line, `--` for a dashed line, or `-.` for alternating dashes and dots."
   ]
  },
  {
   "cell_type": "markdown",
   "metadata": {},
   "source": [
    "### Examples "
   ]
  },
  {
   "cell_type": "markdown",
   "metadata": {},
   "source": [
    "This figure has three lines:\n",
    "* blue solid lines connecting filled in circles\n",
    "* green dotted line with no markers\n",
    "* red star markers with no connecting lines"
   ]
  },
  {
   "cell_type": "code",
   "execution_count": 17,
   "metadata": {},
   "outputs": [
    {
     "data": {
      "image/png": "[encoded data removed]",
      "text/plain": [
       "<Figure size 432x288 with 1 Axes>"
      ]
     },
     "metadata": {
      "needs_background": "light"
     },
     "output_type": "display_data"
    }
   ],
   "source": [
    "a = [ randint(75,95) for i in range(10) ]\n",
    "b = [ randint(50,60) for i in range(10) ]\n",
    "c = [ randint(25,45) for i in range(10) ]\n",
    "\n",
    "plt.plot(a, 'bo-', label=\"bo-\")\n",
    "plt.plot(b, 'g:', label=\"g:\")\n",
    "plt.plot(c, 'r*', label=\"r*\")\n",
    "plt.legend(loc='lower left')\n",
    "plt.axis([-1, len(a), -10, 110])\n",
    "plt.show()"
   ]
  },
  {
   "cell_type": "markdown",
   "metadata": {},
   "source": [
    "## Keyword Arguments "
   ]
  },
  {
   "cell_type": "markdown",
   "metadata": {},
   "source": [
    "We can also specify line styles (and many more options) as keyword arguments \n",
    "* include `name = value` in the call, following the other arguments\n",
    "* separate multiple arguments by commas\n",
    "* keyword arguments can be specified in any order\n",
    "\n",
    "This convention is common for functions (like those in `pyplot`) that can take so many different options\n",
    "* it would be pretty tedious to specify every option on every call"
   ]
  },
  {
   "cell_type": "markdown",
   "metadata": {},
   "source": [
    "### Example "
   ]
  },
  {
   "cell_type": "markdown",
   "metadata": {},
   "source": [
    "The plot below is a drawing of the sigmoid function:\n",
    "$$\n",
    "S(x) = \\frac{1}{1 + e^{-x}}\n",
    "$$"
   ]
  },
  {
   "cell_type": "markdown",
   "metadata": {},
   "source": [
    "A function named `exp` in Python's math library will compute $e^x$"
   ]
  },
  {
   "cell_type": "code",
   "execution_count": 30,
   "metadata": {},
   "outputs": [
    {
     "data": {
      "text/plain": [
       "2.718281828459045"
      ]
     },
     "execution_count": 30,
     "metadata": {},
     "output_type": "execute_result"
    }
   ],
   "source": [
    "exp(1)"
   ]
  },
  {
   "cell_type": "code",
   "execution_count": 31,
   "metadata": {},
   "outputs": [
    {
     "data": {
      "text/plain": [
       "7.38905609893065"
      ]
     },
     "execution_count": 31,
     "metadata": {},
     "output_type": "execute_result"
    }
   ],
   "source": [
    "exp(2)"
   ]
  },
  {
   "cell_type": "code",
   "execution_count": 32,
   "metadata": {},
   "outputs": [
    {
     "data": {
      "text/plain": [
       "0.1353352832366127"
      ]
     },
     "execution_count": 32,
     "metadata": {},
     "output_type": "execute_result"
    }
   ],
   "source": [
    "exp(-2)"
   ]
  },
  {
   "cell_type": "markdown",
   "metadata": {},
   "source": [
    "We want to draw the function with a thick line (2 pixels wide) and using the color named \"dark blue\":"
   ]
  },
  {
   "cell_type": "code",
   "execution_count": 26,
   "metadata": {},
   "outputs": [
    {
     "data": {
      "image/png": "[encoded data removed]",
      "text/plain": [
       "<Figure size 432x288 with 1 Axes>"
      ]
     },
     "metadata": {
      "needs_background": "light"
     },
     "output_type": "display_data"
    }
   ],
   "source": [
    "x = [ (n/10 - 5.0) for n in range(100) ]\n",
    "y = [ 1/(1 + exp(-pt)) for pt in x ]\n",
    "\n",
    "plt.plot(x, y, linewidth=5, color='darkblue')\n",
    "plt.axis([-6, 6, -0.1, 1.1])\n",
    "plt.show()"
   ]
  },
  {
   "cell_type": "code",
   "execution_count": 18,
   "metadata": {},
   "outputs": [
    {
     "data": {
      "text/plain": [
       "[<matplotlib.lines.Line2D at 0x7fec59f31518>]"
      ]
     },
     "execution_count": 18,
     "metadata": {},
     "output_type": "execute_result"
    },
    {
     "data": {
      "image/png": "[encoded data removed]",
      "text/plain": [
       "<Figure size 432x288 with 1 Axes>"
      ]
     },
     "metadata": {
      "needs_background": "light"
     },
     "output_type": "display_data"
    }
   ],
   "source": [
    "plt.plot(a, 'o')"
   ]
  },
  {
   "cell_type": "markdown",
   "metadata": {},
   "source": [
    "## More About Colors "
   ]
  },
  {
   "cell_type": "markdown",
   "metadata": {},
   "source": [
    "The argument for the `color` option in the example above is a string:\n",
    "```\n",
    "plt.plot(x, y, linewidth=2, color='darkblue')\n",
    "```"
   ]
  },
  {
   "cell_type": "markdown",
   "metadata": {},
   "source": [
    "That brings up a question:  what color names can we use?"
   ]
  },
  {
   "cell_type": "markdown",
   "metadata": {},
   "source": [
    "### Import the Color Name Table"
   ]
  },
  {
   "cell_type": "markdown",
   "metadata": {},
   "source": [
    "One way to find out:  import the names from the library"
   ]
  },
  {
   "cell_type": "code",
   "execution_count": 20,
   "metadata": {},
   "outputs": [],
   "source": [
    "from matplotlib.colors import CSS4_COLORS as colors"
   ]
  },
  {
   "cell_type": "code",
   "execution_count": 21,
   "metadata": {},
   "outputs": [
    {
     "data": {
      "text/plain": [
       "dict"
      ]
     },
     "execution_count": 21,
     "metadata": {},
     "output_type": "execute_result"
    }
   ],
   "source": [
    "type(colors)"
   ]
  },
  {
   "cell_type": "markdown",
   "metadata": {},
   "source": [
    "Nice, a dictionary, we know how to use those...."
   ]
  },
  {
   "cell_type": "code",
   "execution_count": 22,
   "metadata": {},
   "outputs": [
    {
     "data": {
      "text/plain": [
       "148"
      ]
     },
     "execution_count": 22,
     "metadata": {},
     "output_type": "execute_result"
    }
   ],
   "source": [
    "len(colors)"
   ]
  },
  {
   "cell_type": "code",
   "execution_count": 37,
   "metadata": {},
   "outputs": [],
   "source": [
    "# list(colors.keys())"
   ]
  },
  {
   "cell_type": "code",
   "execution_count": 38,
   "metadata": {},
   "outputs": [
    {
     "data": {
      "text/plain": [
       "'#008000'"
      ]
     },
     "execution_count": 38,
     "metadata": {},
     "output_type": "execute_result"
    }
   ],
   "source": [
    "colors['green']"
   ]
  },
  {
   "cell_type": "code",
   "execution_count": 41,
   "metadata": {},
   "outputs": [
    {
     "name": "stdout",
     "output_type": "stream",
     "text": [
      "red #FF0000\n",
      "orange #FFA500\n",
      "green #008000\n",
      "yellow #FFFF00\n",
      "blue #0000FF\n",
      "indigo #4B0082\n",
      "violet #EE82EE\n"
     ]
    }
   ],
   "source": [
    "for c in ['red','orange','green','yellow','blue','indigo','violet']:\n",
    "    print(c, colors[c])"
   ]
  },
  {
   "cell_type": "code",
   "execution_count": 42,
   "metadata": {},
   "outputs": [
    {
     "name": "stdout",
     "output_type": "stream",
     "text": [
      "aliceblue\n",
      "blue\n",
      "blueviolet\n",
      "cadetblue\n",
      "cornflowerblue\n",
      "darkblue\n",
      "darkslateblue\n",
      "deepskyblue\n",
      "dodgerblue\n",
      "lightblue\n",
      "lightskyblue\n",
      "lightsteelblue\n",
      "mediumblue\n",
      "mediumslateblue\n",
      "midnightblue\n",
      "powderblue\n",
      "royalblue\n",
      "skyblue\n",
      "slateblue\n",
      "steelblue\n"
     ]
    }
   ],
   "source": [
    "for c in colors:\n",
    "    if 'blue' in c:\n",
    "        print(c)"
   ]
  },
  {
   "cell_type": "markdown",
   "metadata": {},
   "source": [
    "### Question:  How Can I Print the Names of All the Shades of Blue? "
   ]
  },
  {
   "cell_type": "markdown",
   "metadata": {},
   "source": [
    "Tell me what to type so I see the names (and maybe the color values) for all the different shades of blue:\n",
    "```\n",
    ">>> ???\n",
    "aliceblue            #F0F8FF\n",
    "blue                 #0000FF\n",
    "blueviolet           #8A2BE2\n",
    "...\n",
    "```"
   ]
  },
  {
   "cell_type": "markdown",
   "metadata": {},
   "source": [
    "### Answer 1 "
   ]
  },
  {
   "cell_type": "markdown",
   "metadata": {},
   "source": [
    "Use a `for` loop that iterates over all color names"
   ]
  },
  {
   "cell_type": "code",
   "execution_count": 43,
   "metadata": {},
   "outputs": [
    {
     "name": "stdout",
     "output_type": "stream",
     "text": [
      "aliceblue            #F0F8FF\n",
      "blue                 #0000FF\n",
      "blueviolet           #8A2BE2\n",
      "cadetblue            #5F9EA0\n",
      "cornflowerblue       #6495ED\n",
      "darkblue             #00008B\n",
      "darkslateblue        #483D8B\n",
      "deepskyblue          #00BFFF\n",
      "dodgerblue           #1E90FF\n",
      "lightblue            #ADD8E6\n",
      "lightskyblue         #87CEFA\n",
      "lightsteelblue       #B0C4DE\n",
      "mediumblue           #0000CD\n",
      "mediumslateblue      #7B68EE\n",
      "midnightblue         #191970\n",
      "powderblue           #B0E0E6\n",
      "royalblue            #4169E1\n",
      "skyblue              #87CEEB\n",
      "slateblue            #6A5ACD\n",
      "steelblue            #4682B4\n"
     ]
    }
   ],
   "source": [
    "for c in colors:\n",
    "    if 'blue' in c:\n",
    "        print('{:20s} {:s}'.format(c, colors[c]))"
   ]
  },
  {
   "cell_type": "markdown",
   "metadata": {},
   "source": [
    "### Answer 2 "
   ]
  },
  {
   "cell_type": "markdown",
   "metadata": {},
   "source": [
    "Use list comprehension to make a list of names\n",
    "* this examples shows that we can include a conditional as part of the `for` in a comprehension"
   ]
  },
  {
   "cell_type": "code",
   "execution_count": 44,
   "metadata": {},
   "outputs": [],
   "source": [
    "blues = [c for c in colors if 'blue' in c]"
   ]
  },
  {
   "cell_type": "code",
   "execution_count": 45,
   "metadata": {},
   "outputs": [
    {
     "name": "stdout",
     "output_type": "stream",
     "text": [
      "['aliceblue', 'blue', 'blueviolet', 'cadetblue', 'cornflowerblue', 'darkblue', 'darkslateblue', 'deepskyblue', 'dodgerblue', 'lightblue', 'lightskyblue', 'lightsteelblue', 'mediumblue', 'mediumslateblue', 'midnightblue', 'powderblue', 'royalblue', 'skyblue', 'slateblue', 'steelblue']\n"
     ]
    }
   ],
   "source": [
    "print(blues)"
   ]
  },
  {
   "cell_type": "code",
   "execution_count": 46,
   "metadata": {},
   "outputs": [
    {
     "data": {
      "text/plain": [
       "20"
      ]
     },
     "execution_count": 46,
     "metadata": {},
     "output_type": "execute_result"
    }
   ],
   "source": [
    "len(blues)"
   ]
  },
  {
   "cell_type": "markdown",
   "metadata": {},
   "source": [
    "## Dot Plots "
   ]
  },
  {
   "cell_type": "markdown",
   "metadata": {},
   "source": [
    "The `plot` function can be used to make a \"dot plot\"\n",
    "* draw a series of \"glyphs\"\n",
    "* leave out the line type in the format spec so the points are not connected\n",
    "\n",
    "**Note:** all the points will have the same size, color, and shape\n",
    "* we can call `plot` multiple times, to overlay multiple data sets, but within a set each point will look the same\n",
    "\n",
    "In the next notebook we'll see a function named `scatter` that produces more sophisticated plots\n",
    "* example: the size or color of a point can vary according to some other attribute of the data\n"
   ]
  },
  {
   "cell_type": "code",
   "execution_count": 47,
   "metadata": {},
   "outputs": [
    {
     "data": {
      "text/plain": [
       "\u001b[0;31mSignature:\u001b[0m \u001b[0muniform\u001b[0m\u001b[0;34m(\u001b[0m\u001b[0ma\u001b[0m\u001b[0;34m,\u001b[0m \u001b[0mb\u001b[0m\u001b[0;34m)\u001b[0m\u001b[0;34m\u001b[0m\u001b[0;34m\u001b[0m\u001b[0m\n",
       "\u001b[0;31mDocstring:\u001b[0m Get a random number in the range [a, b) or [a, b] depending on rounding.\n",
       "\u001b[0;31mFile:\u001b[0m      /opt/conda/lib/python3.7/random.py\n",
       "\u001b[0;31mType:\u001b[0m      method\n"
      ]
     },
     "metadata": {},
     "output_type": "display_data"
    }
   ],
   "source": [
    "?uniform"
   ]
  },
  {
   "cell_type": "code",
   "execution_count": 48,
   "metadata": {},
   "outputs": [
    {
     "data": {
      "text/plain": [
       "6.401168885440649"
      ]
     },
     "execution_count": 48,
     "metadata": {},
     "output_type": "execute_result"
    }
   ],
   "source": [
    "uniform(1,10)"
   ]
  },
  {
   "cell_type": "code",
   "execution_count": 49,
   "metadata": {},
   "outputs": [
    {
     "data": {
      "image/png": "[encoded data removed]",
      "text/plain": [
       "<Figure size 432x288 with 1 Axes>"
      ]
     },
     "metadata": {
      "needs_background": "light"
     },
     "output_type": "display_data"
    }
   ],
   "source": [
    "x1 = [uniform(1, 5) for i in range(20)]\n",
    "y1 = [uniform(1, 6) for i in range(20)]\n",
    "\n",
    "x2 = [uniform(3, 7) for i in range(20)]\n",
    "y2 = [uniform(2, 7) for i in range(20)]\n",
    "\n",
    "plt.plot(x1, y1, 'b^', label='Sample 1')\n",
    "plt.plot(x2, y2, 'gv', label='Sample 2')\n",
    "\n",
    "plt.axis([0,10,0,10])\n",
    "plt.legend(loc='upper right')\n",
    "plt.show()"
   ]
  },
  {
   "cell_type": "code",
   "execution_count": null,
   "metadata": {},
   "outputs": [],
   "source": []
  }
 ],
 "metadata": {
  "kernelspec": {
   "display_name": "Python 3",
   "language": "python",
   "name": "python3"
  },
  "language_info": {
   "codemirror_mode": {
    "name": "ipython",
    "version": 3
   },
   "file_extension": ".py",
   "mimetype": "text/x-python",
   "name": "python",
   "nbconvert_exporter": "python",
   "pygments_lexer": "ipython3",
   "version": "3.7.1"
  },
  "varInspector": {
   "cols": {
    "lenName": 16,
    "lenType": 16,
    "lenVar": 40
   },
   "kernels_config": {
    "python": {
     "delete_cmd_postfix": "",
     "delete_cmd_prefix": "del ",
     "library": "var_list.py",
     "varRefreshCmd": "print(var_dic_list())"
    },
    "r": {
     "delete_cmd_postfix": ") ",
     "delete_cmd_prefix": "rm(",
     "library": "var_list.r",
     "varRefreshCmd": "cat(var_dic_list()) "
    }
   },
   "types_to_exclude": [
    "module",
    "function",
    "builtin_function_or_method",
    "instance",
    "_Feature"
   ],
   "window_display": false
  }
 },
 "nbformat": 4,
 "nbformat_minor": 4
}
